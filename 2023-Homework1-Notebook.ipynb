{
 "cells": [
  {
   "cell_type": "markdown",
   "metadata": {},
   "source": [
    "# Homework1\n",
    "\n",
    "Please upload to Brightspace a **.zip** archive containing your Jupyter Notebook with solutions and all data required to reproduce your solutions. \n",
    "\n",
    "Please also prepare a **requirements.txt** file which lists all the packages that you have used for your homework, one package per line. This will allow us to install all required packages.\n",
    "\n",
    "Please name your .zip archive using your full name and student id as follows - **Firstname_Lastname_12345678_COMP47350_Homework1.zip**. \n",
    "\n",
    "For your Notebook, please split the code and explanations into cells so that it is easy to see and read the results of each step of your solution. Please remember to name your variables and methods with self-explanatory names. Please remember to write comments and where needed, justifications, for the decisions you make and code you write. \n",
    "\n",
    "Your code and analysis is like a story that awaits to be read. Always start with an introduction about the problem and your understanding of the problem domain and data analytics solution and describe the steps you do and your findings from each step.\n",
    "\n",
    "The accepted file formats for the homework are:\n",
    "    - .ipynb\n",
    "    - .zip\n",
    "    - .png\n",
    "    - .pdf\n",
    "    - .csv\n",
    "    \n",
    "Please keep the whole code in a single notebook. Usage of external tools/files is discouraged for portability reasons. Files in any other format but mentioned above can be used but will not be considered for the submission (including .doc, .rar, .7z, .pages, .xlsx, .tex etc.). \n",
    "Any image format is allowed to be used as far as the images appear embedded in your report (.ipynb or .pdf or .html).\n",
    "\n",
    "**Deadline: Monday, 11 March, 2024, midnight.** "
   ]
  },
  {
   "cell_type": "markdown",
   "metadata": {},
   "source": [
    "## Exercises\n",
    "\n",
    "This homework focuses on data understanding and preparation for a particular problem and dataset.\n",
    "The data comes from the Centers for Disease Control and Prevention (CDC: https://covid.cdc.gov/covid-data-tracker/). CDC is a USA health protection agency and is in charge of collecting data about the COVID-19 pandemic, and in particular, tracking cases and trends of COVID-19 in the United States. CDC collects and makes public deidentified individual-case data on a daily basis, submitted using standardized case reporting forms. In this analysis, we focus on using the data collected by CDC to build a data analytics solution for death risk prediction. CDC collects demographic characteristics, exposure history, disease severity indicators and outcomes, clinical data, laboratory diagnostic test results, and comorbidities. It also includes information on whether the individual survived or not.\n",
    "\n",
    "The dataset we work with is a sample of the public data released by CDC, where the outcome for the target feature death_yn is known (i.e., either 'yes' or 'no'):\n",
    "https://data.cdc.gov/Case-Surveillance/COVID-19-Case-Surveillance-Public-Use-Data-with-Ge/n8mc-b4w4\n",
    "\n",
    "Each student will work with a different subset of the data. The CSV file is named using the format: **covid19-cdc-[your-student-number].csv**, e.g., **covid19-cdc-12345678.csv** is the data file for a student with number 12345678. You need to work with the CSV file corresponding to your student number, available from this link: https://drive.google.com/drive/folders/1BvAsc_dT8sOpqoiIDWtYDovCUYEgxug0?usp=sharing. There are 4 parts for this homework. Each part has an indicative maximum percentage given in brackets, e.g., part (1) has a maximum of 40% shown as [40]. The total marks are then converted to a grade, e.g., 40% maps to a pass grade D-, 75% maps to a B.\n",
    "\n",
    "\n",
    "(1). [40] Prepare a data quality report for your CSV file. Below you have a set of guideline steps to help you in this process. All the steps need to be implemented with Python code.\n",
    "\n",
    "    - Check how many rows and columns your dataset has.\n",
    "    - Print the first and the last 5 rows.\n",
    "    - Convert the features to their appropriate data types (e.g., decide which features are more appropriate as \n",
    "    continuous and which ones as categorical types). \n",
    "    - Look for duplicate rows and columns. Consider whether it makes sense to keep them or drop them.\n",
    "    - Look for constant columns. Consider whether it makes sense to keep them or drop them.\n",
    "    - Save your updated/cleaned data frame to a new csv file.\n",
    "  \n",
    "    For the updated CSV and data frame (after column/row removal):\n",
    "    - Prepare a table with descriptive statistics for all the continuous features.\n",
    "    - Prepare a table with descriptive statistics for all the categorical features.\n",
    "    - Plot histograms for all the continuous features.\n",
    "    - Plot box plots for all the continuous features.\n",
    "    - Plot bar plots for all the categorical features.\n",
    "    - Discuss your initial findings from the tables and plots.\n",
    "    - Prepare the initial discussion of your findings into a single data quality report PDF file. \n",
    "    The PDF report should focus on the key issues identified in the data and discuss potential strategies to handle them. Simple listing of tables and plots without discussion of findings will not receive full marks. To receive full marks you need to show your understanding and analysis of the dataset, through a detailed discussion for each feature. The report should be concise and complete, the goal is not to make it long for the sake of length, but to cover all the important aspects of the features. The notebook provides detailed steps with code, while the report is a summary of findings.\n",
    "\n",
    "(2). [30] Prepare a data quality plan for the cleaned CSV file. \n",
    "\n",
    "    - Mark down all the features where there are potential problems or data quality issues.\n",
    "    - Propose solutions to deal with the problems identified. Explain why did you choose one solution over \n",
    "    potentially many other. It is very important to provide justification for your thinking in this part and to list potential solutions, including the solution that will be implemented to clean the data.\n",
    "    - Apply your solutions to obtain a new CSV file where the identified data quality issues were addressed. \n",
    "    - Save the new CSV file with a self explanatory name. \n",
    "    - Save the data quality plan to a single PDF file.\n",
    "        \n",
    "(3). [15] Exploring relationships between feature pairs:\n",
    "\n",
    "    - Choose a subset of features you find promising and plot pairwise feature interactions (e.g., \n",
    "    continuous-continuous feature plot or continuous-categorical plots or correlation plots). \n",
    "    Explain your choices.\n",
    "    - Discuss your findings from the plots above. Do you find any features or feature combinations that are \n",
    "    indicative of the target outcome? Explain in plain words (a short paragraph) the story of your\n",
    "    findings so far.\n",
    "    \n",
    "(4). [15] Create new features: Transform, extend or combine the existing features, or add new features from external sources, to create a few new features (at least 3) with the aim to better capture the problem domain and the target outcome. Justify the steps and choices you are making. In the grading, consideration will be given to the creativity and domain knowledge shown in preparing the new features. Use code to show that your new features are indeed useful for the target prediction problem. Add these features to your clean dataset and save it as a CSV file with a self explanatory name. "
   ]
  },
  {
   "cell_type": "code",
   "execution_count": 86,
   "metadata": {},
   "outputs": [],
   "source": [
    "import pandas as pd\n",
    "import numpy as np\n",
    "import matplotlib.pyplot as plt"
   ]
  },
  {
   "cell_type": "code",
   "execution_count": 87,
   "metadata": {},
   "outputs": [],
   "source": [
    "df = pd.read_csv('covid19-cdc-23201629.csv', keep_default_na=True, delimiter=',', skipinitialspace=True)"
   ]
  },
  {
   "cell_type": "markdown",
   "metadata": {},
   "source": [
    "# (1). Prepare a data quality report for the CSV file."
   ]
  },
  {
   "cell_type": "markdown",
   "metadata": {},
   "source": [
    "### Check shape of CSV file"
   ]
  },
  {
   "cell_type": "code",
   "execution_count": 88,
   "metadata": {},
   "outputs": [
    {
     "data": {
      "text/plain": [
       "(50000, 19)"
      ]
     },
     "execution_count": 88,
     "metadata": {},
     "output_type": "execute_result"
    }
   ],
   "source": [
    "df.shape"
   ]
  },
  {
   "cell_type": "markdown",
   "metadata": {},
   "source": [
    "The dataset has 50,000 entries with 19 features per entry."
   ]
  },
  {
   "cell_type": "code",
   "execution_count": 89,
   "metadata": {},
   "outputs": [
    {
     "data": {
      "text/html": [
       "<div>\n",
       "<style scoped>\n",
       "    .dataframe tbody tr th:only-of-type {\n",
       "        vertical-align: middle;\n",
       "    }\n",
       "\n",
       "    .dataframe tbody tr th {\n",
       "        vertical-align: top;\n",
       "    }\n",
       "\n",
       "    .dataframe thead th {\n",
       "        text-align: right;\n",
       "    }\n",
       "</style>\n",
       "<table border=\"1\" class=\"dataframe\">\n",
       "  <thead>\n",
       "    <tr style=\"text-align: right;\">\n",
       "      <th></th>\n",
       "      <th>case_month</th>\n",
       "      <th>res_state</th>\n",
       "      <th>state_fips_code</th>\n",
       "      <th>res_county</th>\n",
       "      <th>county_fips_code</th>\n",
       "      <th>age_group</th>\n",
       "      <th>sex</th>\n",
       "      <th>race</th>\n",
       "      <th>ethnicity</th>\n",
       "      <th>case_positive_specimen_interval</th>\n",
       "      <th>case_onset_interval</th>\n",
       "      <th>process</th>\n",
       "      <th>exposure_yn</th>\n",
       "      <th>current_status</th>\n",
       "      <th>symptom_status</th>\n",
       "      <th>hosp_yn</th>\n",
       "      <th>icu_yn</th>\n",
       "      <th>death_yn</th>\n",
       "      <th>underlying_conditions_yn</th>\n",
       "    </tr>\n",
       "  </thead>\n",
       "  <tbody>\n",
       "    <tr>\n",
       "      <th>0</th>\n",
       "      <td>2021-12</td>\n",
       "      <td>CA</td>\n",
       "      <td>6.0</td>\n",
       "      <td>ORANGE</td>\n",
       "      <td>6059.0</td>\n",
       "      <td>65+ years</td>\n",
       "      <td>Female</td>\n",
       "      <td>White</td>\n",
       "      <td>Non-Hispanic/Latino</td>\n",
       "      <td>NaN</td>\n",
       "      <td>NaN</td>\n",
       "      <td>Missing</td>\n",
       "      <td>Missing</td>\n",
       "      <td>Laboratory-confirmed case</td>\n",
       "      <td>Unknown</td>\n",
       "      <td>No</td>\n",
       "      <td>Missing</td>\n",
       "      <td>Yes</td>\n",
       "      <td>NaN</td>\n",
       "    </tr>\n",
       "    <tr>\n",
       "      <th>1</th>\n",
       "      <td>2020-04</td>\n",
       "      <td>IL</td>\n",
       "      <td>17.0</td>\n",
       "      <td>COOK</td>\n",
       "      <td>17031.0</td>\n",
       "      <td>65+ years</td>\n",
       "      <td>Female</td>\n",
       "      <td>Asian</td>\n",
       "      <td>Non-Hispanic/Latino</td>\n",
       "      <td>NaN</td>\n",
       "      <td>0.0</td>\n",
       "      <td>Missing</td>\n",
       "      <td>Missing</td>\n",
       "      <td>Laboratory-confirmed case</td>\n",
       "      <td>Missing</td>\n",
       "      <td>Yes</td>\n",
       "      <td>Missing</td>\n",
       "      <td>Yes</td>\n",
       "      <td>NaN</td>\n",
       "    </tr>\n",
       "    <tr>\n",
       "      <th>2</th>\n",
       "      <td>2021-11</td>\n",
       "      <td>AZ</td>\n",
       "      <td>4.0</td>\n",
       "      <td>MARICOPA</td>\n",
       "      <td>4013.0</td>\n",
       "      <td>65+ years</td>\n",
       "      <td>Female</td>\n",
       "      <td>White</td>\n",
       "      <td>Hispanic/Latino</td>\n",
       "      <td>NaN</td>\n",
       "      <td>NaN</td>\n",
       "      <td>Missing</td>\n",
       "      <td>Missing</td>\n",
       "      <td>Laboratory-confirmed case</td>\n",
       "      <td>Missing</td>\n",
       "      <td>Yes</td>\n",
       "      <td>Missing</td>\n",
       "      <td>Yes</td>\n",
       "      <td>NaN</td>\n",
       "    </tr>\n",
       "    <tr>\n",
       "      <th>3</th>\n",
       "      <td>2022-02</td>\n",
       "      <td>MI</td>\n",
       "      <td>26.0</td>\n",
       "      <td>WAYNE</td>\n",
       "      <td>26163.0</td>\n",
       "      <td>65+ years</td>\n",
       "      <td>Male</td>\n",
       "      <td>White</td>\n",
       "      <td>Non-Hispanic/Latino</td>\n",
       "      <td>NaN</td>\n",
       "      <td>NaN</td>\n",
       "      <td>Missing</td>\n",
       "      <td>Missing</td>\n",
       "      <td>Laboratory-confirmed case</td>\n",
       "      <td>Missing</td>\n",
       "      <td>Missing</td>\n",
       "      <td>Missing</td>\n",
       "      <td>Yes</td>\n",
       "      <td>NaN</td>\n",
       "    </tr>\n",
       "    <tr>\n",
       "      <th>4</th>\n",
       "      <td>2020-11</td>\n",
       "      <td>AZ</td>\n",
       "      <td>4.0</td>\n",
       "      <td>MARICOPA</td>\n",
       "      <td>4013.0</td>\n",
       "      <td>65+ years</td>\n",
       "      <td>Female</td>\n",
       "      <td>White</td>\n",
       "      <td>Hispanic/Latino</td>\n",
       "      <td>NaN</td>\n",
       "      <td>NaN</td>\n",
       "      <td>Missing</td>\n",
       "      <td>Missing</td>\n",
       "      <td>Laboratory-confirmed case</td>\n",
       "      <td>Missing</td>\n",
       "      <td>Yes</td>\n",
       "      <td>Missing</td>\n",
       "      <td>Yes</td>\n",
       "      <td>NaN</td>\n",
       "    </tr>\n",
       "  </tbody>\n",
       "</table>\n",
       "</div>"
      ],
      "text/plain": [
       "  case_month res_state  state_fips_code res_county  county_fips_code  \\\n",
       "0    2021-12        CA              6.0     ORANGE            6059.0   \n",
       "1    2020-04        IL             17.0       COOK           17031.0   \n",
       "2    2021-11        AZ              4.0   MARICOPA            4013.0   \n",
       "3    2022-02        MI             26.0      WAYNE           26163.0   \n",
       "4    2020-11        AZ              4.0   MARICOPA            4013.0   \n",
       "\n",
       "   age_group     sex   race            ethnicity  \\\n",
       "0  65+ years  Female  White  Non-Hispanic/Latino   \n",
       "1  65+ years  Female  Asian  Non-Hispanic/Latino   \n",
       "2  65+ years  Female  White      Hispanic/Latino   \n",
       "3  65+ years    Male  White  Non-Hispanic/Latino   \n",
       "4  65+ years  Female  White      Hispanic/Latino   \n",
       "\n",
       "   case_positive_specimen_interval  case_onset_interval  process exposure_yn  \\\n",
       "0                              NaN                  NaN  Missing     Missing   \n",
       "1                              NaN                  0.0  Missing     Missing   \n",
       "2                              NaN                  NaN  Missing     Missing   \n",
       "3                              NaN                  NaN  Missing     Missing   \n",
       "4                              NaN                  NaN  Missing     Missing   \n",
       "\n",
       "              current_status symptom_status  hosp_yn   icu_yn death_yn  \\\n",
       "0  Laboratory-confirmed case        Unknown       No  Missing      Yes   \n",
       "1  Laboratory-confirmed case        Missing      Yes  Missing      Yes   \n",
       "2  Laboratory-confirmed case        Missing      Yes  Missing      Yes   \n",
       "3  Laboratory-confirmed case        Missing  Missing  Missing      Yes   \n",
       "4  Laboratory-confirmed case        Missing      Yes  Missing      Yes   \n",
       "\n",
       "  underlying_conditions_yn  \n",
       "0                      NaN  \n",
       "1                      NaN  \n",
       "2                      NaN  \n",
       "3                      NaN  \n",
       "4                      NaN  "
      ]
     },
     "execution_count": 89,
     "metadata": {},
     "output_type": "execute_result"
    }
   ],
   "source": [
    "df.head(5)"
   ]
  },
  {
   "cell_type": "code",
   "execution_count": 90,
   "metadata": {},
   "outputs": [
    {
     "data": {
      "text/html": [
       "<div>\n",
       "<style scoped>\n",
       "    .dataframe tbody tr th:only-of-type {\n",
       "        vertical-align: middle;\n",
       "    }\n",
       "\n",
       "    .dataframe tbody tr th {\n",
       "        vertical-align: top;\n",
       "    }\n",
       "\n",
       "    .dataframe thead th {\n",
       "        text-align: right;\n",
       "    }\n",
       "</style>\n",
       "<table border=\"1\" class=\"dataframe\">\n",
       "  <thead>\n",
       "    <tr style=\"text-align: right;\">\n",
       "      <th></th>\n",
       "      <th>case_month</th>\n",
       "      <th>res_state</th>\n",
       "      <th>state_fips_code</th>\n",
       "      <th>res_county</th>\n",
       "      <th>county_fips_code</th>\n",
       "      <th>age_group</th>\n",
       "      <th>sex</th>\n",
       "      <th>race</th>\n",
       "      <th>ethnicity</th>\n",
       "      <th>case_positive_specimen_interval</th>\n",
       "      <th>case_onset_interval</th>\n",
       "      <th>process</th>\n",
       "      <th>exposure_yn</th>\n",
       "      <th>current_status</th>\n",
       "      <th>symptom_status</th>\n",
       "      <th>hosp_yn</th>\n",
       "      <th>icu_yn</th>\n",
       "      <th>death_yn</th>\n",
       "      <th>underlying_conditions_yn</th>\n",
       "    </tr>\n",
       "  </thead>\n",
       "  <tbody>\n",
       "    <tr>\n",
       "      <th>49995</th>\n",
       "      <td>2022-05</td>\n",
       "      <td>NY</td>\n",
       "      <td>36.0</td>\n",
       "      <td>NIAGARA</td>\n",
       "      <td>36063.0</td>\n",
       "      <td>18 to 49 years</td>\n",
       "      <td>Male</td>\n",
       "      <td>Missing</td>\n",
       "      <td>Unknown</td>\n",
       "      <td>NaN</td>\n",
       "      <td>NaN</td>\n",
       "      <td>Missing</td>\n",
       "      <td>Missing</td>\n",
       "      <td>Laboratory-confirmed case</td>\n",
       "      <td>Missing</td>\n",
       "      <td>Missing</td>\n",
       "      <td>Missing</td>\n",
       "      <td>No</td>\n",
       "      <td>NaN</td>\n",
       "    </tr>\n",
       "    <tr>\n",
       "      <th>49996</th>\n",
       "      <td>2021-08</td>\n",
       "      <td>SC</td>\n",
       "      <td>45.0</td>\n",
       "      <td>PICKENS</td>\n",
       "      <td>45077.0</td>\n",
       "      <td>0 - 17 years</td>\n",
       "      <td>Male</td>\n",
       "      <td>White</td>\n",
       "      <td>Non-Hispanic/Latino</td>\n",
       "      <td>NaN</td>\n",
       "      <td>NaN</td>\n",
       "      <td>Missing</td>\n",
       "      <td>Missing</td>\n",
       "      <td>Laboratory-confirmed case</td>\n",
       "      <td>Missing</td>\n",
       "      <td>Unknown</td>\n",
       "      <td>Missing</td>\n",
       "      <td>No</td>\n",
       "      <td>NaN</td>\n",
       "    </tr>\n",
       "    <tr>\n",
       "      <th>49997</th>\n",
       "      <td>2020-12</td>\n",
       "      <td>NJ</td>\n",
       "      <td>34.0</td>\n",
       "      <td>MORRIS</td>\n",
       "      <td>34027.0</td>\n",
       "      <td>18 to 49 years</td>\n",
       "      <td>Male</td>\n",
       "      <td>White</td>\n",
       "      <td>Missing</td>\n",
       "      <td>0.0</td>\n",
       "      <td>0.0</td>\n",
       "      <td>Missing</td>\n",
       "      <td>Missing</td>\n",
       "      <td>Laboratory-confirmed case</td>\n",
       "      <td>Symptomatic</td>\n",
       "      <td>No</td>\n",
       "      <td>Missing</td>\n",
       "      <td>No</td>\n",
       "      <td>NaN</td>\n",
       "    </tr>\n",
       "    <tr>\n",
       "      <th>49998</th>\n",
       "      <td>2021-12</td>\n",
       "      <td>IN</td>\n",
       "      <td>18.0</td>\n",
       "      <td>OWEN</td>\n",
       "      <td>18119.0</td>\n",
       "      <td>18 to 49 years</td>\n",
       "      <td>Male</td>\n",
       "      <td>White</td>\n",
       "      <td>Non-Hispanic/Latino</td>\n",
       "      <td>0.0</td>\n",
       "      <td>NaN</td>\n",
       "      <td>Missing</td>\n",
       "      <td>Missing</td>\n",
       "      <td>Laboratory-confirmed case</td>\n",
       "      <td>Missing</td>\n",
       "      <td>No</td>\n",
       "      <td>Missing</td>\n",
       "      <td>No</td>\n",
       "      <td>NaN</td>\n",
       "    </tr>\n",
       "    <tr>\n",
       "      <th>49999</th>\n",
       "      <td>2021-11</td>\n",
       "      <td>IN</td>\n",
       "      <td>18.0</td>\n",
       "      <td>LAKE</td>\n",
       "      <td>18089.0</td>\n",
       "      <td>50 to 64 years</td>\n",
       "      <td>Female</td>\n",
       "      <td>White</td>\n",
       "      <td>Non-Hispanic/Latino</td>\n",
       "      <td>0.0</td>\n",
       "      <td>NaN</td>\n",
       "      <td>Missing</td>\n",
       "      <td>Missing</td>\n",
       "      <td>Laboratory-confirmed case</td>\n",
       "      <td>Missing</td>\n",
       "      <td>No</td>\n",
       "      <td>Missing</td>\n",
       "      <td>No</td>\n",
       "      <td>NaN</td>\n",
       "    </tr>\n",
       "  </tbody>\n",
       "</table>\n",
       "</div>"
      ],
      "text/plain": [
       "      case_month res_state  state_fips_code res_county  county_fips_code  \\\n",
       "49995    2022-05        NY             36.0    NIAGARA           36063.0   \n",
       "49996    2021-08        SC             45.0    PICKENS           45077.0   \n",
       "49997    2020-12        NJ             34.0     MORRIS           34027.0   \n",
       "49998    2021-12        IN             18.0       OWEN           18119.0   \n",
       "49999    2021-11        IN             18.0       LAKE           18089.0   \n",
       "\n",
       "            age_group     sex     race            ethnicity  \\\n",
       "49995  18 to 49 years    Male  Missing              Unknown   \n",
       "49996    0 - 17 years    Male    White  Non-Hispanic/Latino   \n",
       "49997  18 to 49 years    Male    White              Missing   \n",
       "49998  18 to 49 years    Male    White  Non-Hispanic/Latino   \n",
       "49999  50 to 64 years  Female    White  Non-Hispanic/Latino   \n",
       "\n",
       "       case_positive_specimen_interval  case_onset_interval  process  \\\n",
       "49995                              NaN                  NaN  Missing   \n",
       "49996                              NaN                  NaN  Missing   \n",
       "49997                              0.0                  0.0  Missing   \n",
       "49998                              0.0                  NaN  Missing   \n",
       "49999                              0.0                  NaN  Missing   \n",
       "\n",
       "      exposure_yn             current_status symptom_status  hosp_yn   icu_yn  \\\n",
       "49995     Missing  Laboratory-confirmed case        Missing  Missing  Missing   \n",
       "49996     Missing  Laboratory-confirmed case        Missing  Unknown  Missing   \n",
       "49997     Missing  Laboratory-confirmed case    Symptomatic       No  Missing   \n",
       "49998     Missing  Laboratory-confirmed case        Missing       No  Missing   \n",
       "49999     Missing  Laboratory-confirmed case        Missing       No  Missing   \n",
       "\n",
       "      death_yn underlying_conditions_yn  \n",
       "49995       No                      NaN  \n",
       "49996       No                      NaN  \n",
       "49997       No                      NaN  \n",
       "49998       No                      NaN  \n",
       "49999       No                      NaN  "
      ]
     },
     "execution_count": 90,
     "metadata": {},
     "output_type": "execute_result"
    }
   ],
   "source": [
    "df.tail(5)"
   ]
  },
  {
   "cell_type": "code",
   "execution_count": 91,
   "metadata": {},
   "outputs": [
    {
     "data": {
      "text/plain": [
       "case_month                          object\n",
       "res_state                           object\n",
       "state_fips_code                    float64\n",
       "res_county                          object\n",
       "county_fips_code                   float64\n",
       "age_group                           object\n",
       "sex                                 object\n",
       "race                                object\n",
       "ethnicity                           object\n",
       "case_positive_specimen_interval    float64\n",
       "case_onset_interval                float64\n",
       "process                             object\n",
       "exposure_yn                         object\n",
       "current_status                      object\n",
       "symptom_status                      object\n",
       "hosp_yn                             object\n",
       "icu_yn                              object\n",
       "death_yn                            object\n",
       "underlying_conditions_yn            object\n",
       "dtype: object"
      ]
     },
     "execution_count": 91,
     "metadata": {},
     "output_type": "execute_result"
    }
   ],
   "source": [
    "df.dtypes"
   ]
  },
  {
   "cell_type": "markdown",
   "metadata": {},
   "source": [
    "Based on the explanatory file provided, all of these features are categorical except for case_positive_specimen_interval and case_onset_interval. Convert all object type features to 'category datatype' as well as the sate and county fips codes."
   ]
  },
  {
   "cell_type": "code",
   "execution_count": 92,
   "metadata": {},
   "outputs": [
    {
     "data": {
      "text/plain": [
       "case_month                         category\n",
       "res_state                          category\n",
       "state_fips_code                    category\n",
       "res_county                         category\n",
       "county_fips_code                   category\n",
       "age_group                          category\n",
       "sex                                category\n",
       "race                               category\n",
       "ethnicity                          category\n",
       "case_positive_specimen_interval     float64\n",
       "case_onset_interval                 float64\n",
       "process                            category\n",
       "exposure_yn                        category\n",
       "current_status                     category\n",
       "symptom_status                     category\n",
       "hosp_yn                            category\n",
       "icu_yn                             category\n",
       "death_yn                           category\n",
       "underlying_conditions_yn           category\n",
       "dtype: object"
      ]
     },
     "execution_count": 92,
     "metadata": {},
     "output_type": "execute_result"
    }
   ],
   "source": [
    "for object in df.select_dtypes(['object']).columns:\n",
    "    df[object] = df[object].astype('category')\n",
    "df[\"state_fips_code\"] = df[\"state_fips_code\"].astype('category')\n",
    "df[\"county_fips_code\"] = df[\"county_fips_code\"].astype('category')\n",
    "\n",
    "category_features = df.select_dtypes(['category']).columns\n",
    "continuous_features = df.select_dtypes(['float64']).columns\n",
    "\n",
    "df.dtypes"
   ]
  },
  {
   "cell_type": "markdown",
   "metadata": {},
   "source": [
    "### Check for duplicate row/columns"
   ]
  },
  {
   "cell_type": "code",
   "execution_count": 93,
   "metadata": {},
   "outputs": [
    {
     "name": "stdout",
     "output_type": "stream",
     "text": [
      "Number of duplicate rows (excluding first) in the table is:  4641\n",
      "Number of duplicate rows (including first) in the table is: 7858\n"
     ]
    }
   ],
   "source": [
    "print('Number of duplicate rows (excluding first) in the table is: ', df.duplicated().sum())\n",
    "print('Number of duplicate rows (including first) in the table is:', df[df.duplicated(keep=False)].shape[0])"
   ]
  },
  {
   "cell_type": "code",
   "execution_count": 94,
   "metadata": {},
   "outputs": [
    {
     "name": "stdout",
     "output_type": "stream",
     "text": [
      "Number of duplicate columns in the table is:  0\n"
     ]
    }
   ],
   "source": [
    "dfT = df.T\n",
    "print(\"Number of duplicate columns in the table is: \", dfT.duplicated().sum())"
   ]
  },
  {
   "cell_type": "markdown",
   "metadata": {},
   "source": [
    "#### A sample fo the duplicate rows can be seen below"
   ]
  },
  {
   "cell_type": "code",
   "execution_count": 95,
   "metadata": {},
   "outputs": [
    {
     "data": {
      "text/html": [
       "<div>\n",
       "<style scoped>\n",
       "    .dataframe tbody tr th:only-of-type {\n",
       "        vertical-align: middle;\n",
       "    }\n",
       "\n",
       "    .dataframe tbody tr th {\n",
       "        vertical-align: top;\n",
       "    }\n",
       "\n",
       "    .dataframe thead th {\n",
       "        text-align: right;\n",
       "    }\n",
       "</style>\n",
       "<table border=\"1\" class=\"dataframe\">\n",
       "  <thead>\n",
       "    <tr style=\"text-align: right;\">\n",
       "      <th></th>\n",
       "      <th>case_month</th>\n",
       "      <th>res_state</th>\n",
       "      <th>state_fips_code</th>\n",
       "      <th>res_county</th>\n",
       "      <th>county_fips_code</th>\n",
       "      <th>age_group</th>\n",
       "      <th>sex</th>\n",
       "      <th>race</th>\n",
       "      <th>ethnicity</th>\n",
       "      <th>case_positive_specimen_interval</th>\n",
       "      <th>case_onset_interval</th>\n",
       "      <th>process</th>\n",
       "      <th>exposure_yn</th>\n",
       "      <th>current_status</th>\n",
       "      <th>symptom_status</th>\n",
       "      <th>hosp_yn</th>\n",
       "      <th>icu_yn</th>\n",
       "      <th>death_yn</th>\n",
       "      <th>underlying_conditions_yn</th>\n",
       "    </tr>\n",
       "  </thead>\n",
       "  <tbody>\n",
       "    <tr>\n",
       "      <th>212</th>\n",
       "      <td>2020-12</td>\n",
       "      <td>CA</td>\n",
       "      <td>6.0</td>\n",
       "      <td>LOS ANGELES</td>\n",
       "      <td>6037.0</td>\n",
       "      <td>65+ years</td>\n",
       "      <td>Male</td>\n",
       "      <td>White</td>\n",
       "      <td>Hispanic/Latino</td>\n",
       "      <td>NaN</td>\n",
       "      <td>NaN</td>\n",
       "      <td>Missing</td>\n",
       "      <td>Missing</td>\n",
       "      <td>Laboratory-confirmed case</td>\n",
       "      <td>Unknown</td>\n",
       "      <td>Yes</td>\n",
       "      <td>Yes</td>\n",
       "      <td>Yes</td>\n",
       "      <td>NaN</td>\n",
       "    </tr>\n",
       "    <tr>\n",
       "      <th>363</th>\n",
       "      <td>2021-01</td>\n",
       "      <td>CA</td>\n",
       "      <td>6.0</td>\n",
       "      <td>LOS ANGELES</td>\n",
       "      <td>6037.0</td>\n",
       "      <td>65+ years</td>\n",
       "      <td>Male</td>\n",
       "      <td>White</td>\n",
       "      <td>Hispanic/Latino</td>\n",
       "      <td>NaN</td>\n",
       "      <td>NaN</td>\n",
       "      <td>Missing</td>\n",
       "      <td>Missing</td>\n",
       "      <td>Laboratory-confirmed case</td>\n",
       "      <td>Unknown</td>\n",
       "      <td>Yes</td>\n",
       "      <td>Unknown</td>\n",
       "      <td>Yes</td>\n",
       "      <td>NaN</td>\n",
       "    </tr>\n",
       "    <tr>\n",
       "      <th>460</th>\n",
       "      <td>2021-01</td>\n",
       "      <td>AZ</td>\n",
       "      <td>4.0</td>\n",
       "      <td>MARICOPA</td>\n",
       "      <td>4013.0</td>\n",
       "      <td>65+ years</td>\n",
       "      <td>Male</td>\n",
       "      <td>White</td>\n",
       "      <td>Non-Hispanic/Latino</td>\n",
       "      <td>NaN</td>\n",
       "      <td>NaN</td>\n",
       "      <td>Missing</td>\n",
       "      <td>Missing</td>\n",
       "      <td>Laboratory-confirmed case</td>\n",
       "      <td>Missing</td>\n",
       "      <td>Yes</td>\n",
       "      <td>Missing</td>\n",
       "      <td>Yes</td>\n",
       "      <td>NaN</td>\n",
       "    </tr>\n",
       "    <tr>\n",
       "      <th>492</th>\n",
       "      <td>2021-01</td>\n",
       "      <td>MA</td>\n",
       "      <td>25.0</td>\n",
       "      <td>PLYMOUTH</td>\n",
       "      <td>25023.0</td>\n",
       "      <td>65+ years</td>\n",
       "      <td>Male</td>\n",
       "      <td>White</td>\n",
       "      <td>Non-Hispanic/Latino</td>\n",
       "      <td>0.0</td>\n",
       "      <td>NaN</td>\n",
       "      <td>Missing</td>\n",
       "      <td>Missing</td>\n",
       "      <td>Laboratory-confirmed case</td>\n",
       "      <td>Missing</td>\n",
       "      <td>Yes</td>\n",
       "      <td>Missing</td>\n",
       "      <td>Yes</td>\n",
       "      <td>NaN</td>\n",
       "    </tr>\n",
       "    <tr>\n",
       "      <th>547</th>\n",
       "      <td>2020-01</td>\n",
       "      <td>GA</td>\n",
       "      <td>13.0</td>\n",
       "      <td>NaN</td>\n",
       "      <td>NaN</td>\n",
       "      <td>NaN</td>\n",
       "      <td>NaN</td>\n",
       "      <td>NaN</td>\n",
       "      <td>NaN</td>\n",
       "      <td>NaN</td>\n",
       "      <td>NaN</td>\n",
       "      <td>Missing</td>\n",
       "      <td>Missing</td>\n",
       "      <td>Laboratory-confirmed case</td>\n",
       "      <td>Missing</td>\n",
       "      <td>Missing</td>\n",
       "      <td>Missing</td>\n",
       "      <td>Yes</td>\n",
       "      <td>NaN</td>\n",
       "    </tr>\n",
       "    <tr>\n",
       "      <th>...</th>\n",
       "      <td>...</td>\n",
       "      <td>...</td>\n",
       "      <td>...</td>\n",
       "      <td>...</td>\n",
       "      <td>...</td>\n",
       "      <td>...</td>\n",
       "      <td>...</td>\n",
       "      <td>...</td>\n",
       "      <td>...</td>\n",
       "      <td>...</td>\n",
       "      <td>...</td>\n",
       "      <td>...</td>\n",
       "      <td>...</td>\n",
       "      <td>...</td>\n",
       "      <td>...</td>\n",
       "      <td>...</td>\n",
       "      <td>...</td>\n",
       "      <td>...</td>\n",
       "      <td>...</td>\n",
       "    </tr>\n",
       "    <tr>\n",
       "      <th>49961</th>\n",
       "      <td>2022-01</td>\n",
       "      <td>NY</td>\n",
       "      <td>36.0</td>\n",
       "      <td>SUFFOLK</td>\n",
       "      <td>36103.0</td>\n",
       "      <td>18 to 49 years</td>\n",
       "      <td>Female</td>\n",
       "      <td>Unknown</td>\n",
       "      <td>Unknown</td>\n",
       "      <td>NaN</td>\n",
       "      <td>NaN</td>\n",
       "      <td>Missing</td>\n",
       "      <td>Missing</td>\n",
       "      <td>Laboratory-confirmed case</td>\n",
       "      <td>Missing</td>\n",
       "      <td>Missing</td>\n",
       "      <td>Missing</td>\n",
       "      <td>No</td>\n",
       "      <td>NaN</td>\n",
       "    </tr>\n",
       "    <tr>\n",
       "      <th>49971</th>\n",
       "      <td>2021-11</td>\n",
       "      <td>NY</td>\n",
       "      <td>36.0</td>\n",
       "      <td>MONROE</td>\n",
       "      <td>36055.0</td>\n",
       "      <td>0 - 17 years</td>\n",
       "      <td>Male</td>\n",
       "      <td>White</td>\n",
       "      <td>Non-Hispanic/Latino</td>\n",
       "      <td>NaN</td>\n",
       "      <td>0.0</td>\n",
       "      <td>Missing</td>\n",
       "      <td>Missing</td>\n",
       "      <td>Laboratory-confirmed case</td>\n",
       "      <td>Symptomatic</td>\n",
       "      <td>No</td>\n",
       "      <td>Missing</td>\n",
       "      <td>No</td>\n",
       "      <td>NaN</td>\n",
       "    </tr>\n",
       "    <tr>\n",
       "      <th>49977</th>\n",
       "      <td>2020-11</td>\n",
       "      <td>NY</td>\n",
       "      <td>36.0</td>\n",
       "      <td>ERIE</td>\n",
       "      <td>36029.0</td>\n",
       "      <td>50 to 64 years</td>\n",
       "      <td>Male</td>\n",
       "      <td>White</td>\n",
       "      <td>Unknown</td>\n",
       "      <td>0.0</td>\n",
       "      <td>NaN</td>\n",
       "      <td>Missing</td>\n",
       "      <td>Missing</td>\n",
       "      <td>Laboratory-confirmed case</td>\n",
       "      <td>Missing</td>\n",
       "      <td>Missing</td>\n",
       "      <td>Missing</td>\n",
       "      <td>No</td>\n",
       "      <td>NaN</td>\n",
       "    </tr>\n",
       "    <tr>\n",
       "      <th>49978</th>\n",
       "      <td>2022-01</td>\n",
       "      <td>NY</td>\n",
       "      <td>36.0</td>\n",
       "      <td>ONONDAGA</td>\n",
       "      <td>36067.0</td>\n",
       "      <td>18 to 49 years</td>\n",
       "      <td>Unknown</td>\n",
       "      <td>Unknown</td>\n",
       "      <td>Unknown</td>\n",
       "      <td>NaN</td>\n",
       "      <td>NaN</td>\n",
       "      <td>Missing</td>\n",
       "      <td>Missing</td>\n",
       "      <td>Laboratory-confirmed case</td>\n",
       "      <td>Missing</td>\n",
       "      <td>Missing</td>\n",
       "      <td>Missing</td>\n",
       "      <td>No</td>\n",
       "      <td>NaN</td>\n",
       "    </tr>\n",
       "    <tr>\n",
       "      <th>49990</th>\n",
       "      <td>2022-01</td>\n",
       "      <td>NY</td>\n",
       "      <td>36.0</td>\n",
       "      <td>SUFFOLK</td>\n",
       "      <td>36103.0</td>\n",
       "      <td>18 to 49 years</td>\n",
       "      <td>Female</td>\n",
       "      <td>Missing</td>\n",
       "      <td>Unknown</td>\n",
       "      <td>NaN</td>\n",
       "      <td>NaN</td>\n",
       "      <td>Missing</td>\n",
       "      <td>Missing</td>\n",
       "      <td>Laboratory-confirmed case</td>\n",
       "      <td>Missing</td>\n",
       "      <td>Missing</td>\n",
       "      <td>Missing</td>\n",
       "      <td>No</td>\n",
       "      <td>NaN</td>\n",
       "    </tr>\n",
       "  </tbody>\n",
       "</table>\n",
       "<p>4641 rows × 19 columns</p>\n",
       "</div>"
      ],
      "text/plain": [
       "      case_month res_state state_fips_code   res_county county_fips_code  \\\n",
       "212      2020-12        CA             6.0  LOS ANGELES           6037.0   \n",
       "363      2021-01        CA             6.0  LOS ANGELES           6037.0   \n",
       "460      2021-01        AZ             4.0     MARICOPA           4013.0   \n",
       "492      2021-01        MA            25.0     PLYMOUTH          25023.0   \n",
       "547      2020-01        GA            13.0          NaN              NaN   \n",
       "...          ...       ...             ...          ...              ...   \n",
       "49961    2022-01        NY            36.0      SUFFOLK          36103.0   \n",
       "49971    2021-11        NY            36.0       MONROE          36055.0   \n",
       "49977    2020-11        NY            36.0         ERIE          36029.0   \n",
       "49978    2022-01        NY            36.0     ONONDAGA          36067.0   \n",
       "49990    2022-01        NY            36.0      SUFFOLK          36103.0   \n",
       "\n",
       "            age_group      sex     race            ethnicity  \\\n",
       "212         65+ years     Male    White      Hispanic/Latino   \n",
       "363         65+ years     Male    White      Hispanic/Latino   \n",
       "460         65+ years     Male    White  Non-Hispanic/Latino   \n",
       "492         65+ years     Male    White  Non-Hispanic/Latino   \n",
       "547               NaN      NaN      NaN                  NaN   \n",
       "...               ...      ...      ...                  ...   \n",
       "49961  18 to 49 years   Female  Unknown              Unknown   \n",
       "49971    0 - 17 years     Male    White  Non-Hispanic/Latino   \n",
       "49977  50 to 64 years     Male    White              Unknown   \n",
       "49978  18 to 49 years  Unknown  Unknown              Unknown   \n",
       "49990  18 to 49 years   Female  Missing              Unknown   \n",
       "\n",
       "       case_positive_specimen_interval  case_onset_interval  process  \\\n",
       "212                                NaN                  NaN  Missing   \n",
       "363                                NaN                  NaN  Missing   \n",
       "460                                NaN                  NaN  Missing   \n",
       "492                                0.0                  NaN  Missing   \n",
       "547                                NaN                  NaN  Missing   \n",
       "...                                ...                  ...      ...   \n",
       "49961                              NaN                  NaN  Missing   \n",
       "49971                              NaN                  0.0  Missing   \n",
       "49977                              0.0                  NaN  Missing   \n",
       "49978                              NaN                  NaN  Missing   \n",
       "49990                              NaN                  NaN  Missing   \n",
       "\n",
       "      exposure_yn             current_status symptom_status  hosp_yn   icu_yn  \\\n",
       "212       Missing  Laboratory-confirmed case        Unknown      Yes      Yes   \n",
       "363       Missing  Laboratory-confirmed case        Unknown      Yes  Unknown   \n",
       "460       Missing  Laboratory-confirmed case        Missing      Yes  Missing   \n",
       "492       Missing  Laboratory-confirmed case        Missing      Yes  Missing   \n",
       "547       Missing  Laboratory-confirmed case        Missing  Missing  Missing   \n",
       "...           ...                        ...            ...      ...      ...   \n",
       "49961     Missing  Laboratory-confirmed case        Missing  Missing  Missing   \n",
       "49971     Missing  Laboratory-confirmed case    Symptomatic       No  Missing   \n",
       "49977     Missing  Laboratory-confirmed case        Missing  Missing  Missing   \n",
       "49978     Missing  Laboratory-confirmed case        Missing  Missing  Missing   \n",
       "49990     Missing  Laboratory-confirmed case        Missing  Missing  Missing   \n",
       "\n",
       "      death_yn underlying_conditions_yn  \n",
       "212        Yes                      NaN  \n",
       "363        Yes                      NaN  \n",
       "460        Yes                      NaN  \n",
       "492        Yes                      NaN  \n",
       "547        Yes                      NaN  \n",
       "...        ...                      ...  \n",
       "49961       No                      NaN  \n",
       "49971       No                      NaN  \n",
       "49977       No                      NaN  \n",
       "49978       No                      NaN  \n",
       "49990       No                      NaN  \n",
       "\n",
       "[4641 rows x 19 columns]"
      ]
     },
     "execution_count": 95,
     "metadata": {},
     "output_type": "execute_result"
    }
   ],
   "source": [
    "df[df.duplicated]"
   ]
  },
  {
   "cell_type": "markdown",
   "metadata": {},
   "source": [
    "We can see that the duplicate rows still have valid data for many features, so it is not a case of 7858 rows not having any useful data."
   ]
  },
  {
   "cell_type": "markdown",
   "metadata": {},
   "source": [
    "##### Checking for Duplicate information in different forms."
   ]
  },
  {
   "cell_type": "markdown",
   "metadata": {},
   "source": [
    "Based on the explanatory XLSX file, the information stored in 'res_state' and 'state_fips_code', as well as 'res_county' and 'county_fips_code' are duplicates stored in different forms. Check if state and county fips codes are 1 to 1 information.\n"
   ]
  },
  {
   "cell_type": "code",
   "execution_count": 96,
   "metadata": {},
   "outputs": [
    {
     "name": "stdout",
     "output_type": "stream",
     "text": [
      "50\n",
      "50\n",
      "953\n",
      "1358\n"
     ]
    }
   ],
   "source": [
    "#compare state\n",
    "print(df['res_state'].nunique())\n",
    "print(df['state_fips_code'].nunique())\n",
    "\n",
    "print(df['res_county'].nunique())\n",
    "print(df['county_fips_code'].nunique())"
   ]
  },
  {
   "cell_type": "markdown",
   "metadata": {},
   "source": [
    "res_state and state_fips_code have the same number of unique values, which means it is duplicate data. The res_county and county_fips_code have different numbers of unique elements. Since there are more unique county_fips_codes, it means that there are multiple counties with the smae name but different codes. This means that county_fips_code provides more useful information than res_county and I can drop the res_county column."
   ]
  },
  {
   "cell_type": "code",
   "execution_count": 97,
   "metadata": {},
   "outputs": [],
   "source": [
    "df = df.drop('res_county', axis=1)"
   ]
  },
  {
   "cell_type": "code",
   "execution_count": 98,
   "metadata": {},
   "outputs": [
    {
     "data": {
      "text/html": [
       "<div>\n",
       "<style scoped>\n",
       "    .dataframe tbody tr th:only-of-type {\n",
       "        vertical-align: middle;\n",
       "    }\n",
       "\n",
       "    .dataframe tbody tr th {\n",
       "        vertical-align: top;\n",
       "    }\n",
       "\n",
       "    .dataframe thead th {\n",
       "        text-align: right;\n",
       "    }\n",
       "</style>\n",
       "<table border=\"1\" class=\"dataframe\">\n",
       "  <thead>\n",
       "    <tr style=\"text-align: right;\">\n",
       "      <th></th>\n",
       "      <th>case_month</th>\n",
       "      <th>res_state</th>\n",
       "      <th>state_fips_code</th>\n",
       "      <th>county_fips_code</th>\n",
       "      <th>age_group</th>\n",
       "      <th>sex</th>\n",
       "      <th>race</th>\n",
       "      <th>ethnicity</th>\n",
       "      <th>case_positive_specimen_interval</th>\n",
       "      <th>case_onset_interval</th>\n",
       "      <th>process</th>\n",
       "      <th>exposure_yn</th>\n",
       "      <th>current_status</th>\n",
       "      <th>symptom_status</th>\n",
       "      <th>hosp_yn</th>\n",
       "      <th>icu_yn</th>\n",
       "      <th>death_yn</th>\n",
       "      <th>underlying_conditions_yn</th>\n",
       "    </tr>\n",
       "  </thead>\n",
       "  <tbody>\n",
       "  </tbody>\n",
       "</table>\n",
       "</div>"
      ],
      "text/plain": [
       "Empty DataFrame\n",
       "Columns: [case_month, res_state, state_fips_code, county_fips_code, age_group, sex, race, ethnicity, case_positive_specimen_interval, case_onset_interval, process, exposure_yn, current_status, symptom_status, hosp_yn, icu_yn, death_yn, underlying_conditions_yn]\n",
       "Index: []"
      ]
     },
     "execution_count": 98,
     "metadata": {},
     "output_type": "execute_result"
    }
   ],
   "source": [
    "# check to see if I have any state data that is hidden for privacy\n",
    "df[df[\"res_state\"] == 'NA']\n",
    "df[df[\"state_fips_code\"] == 'NA']"
   ]
  },
  {
   "cell_type": "markdown",
   "metadata": {},
   "source": [
    "There is no state data hiden for privacy, so this data must contain 50 unique states/territories. Since I have 50 unique staes, and 50 unique state_fips_codes these columns are storing suplicate information. I can drop state_fips_code since I only need one feature that tracks the cases state. I want to use the state_fips_code to run a data integrety test, so I wont drop the feature until then"
   ]
  },
  {
   "cell_type": "markdown",
   "metadata": {},
   "source": [
    "#### Result - Duplicate rows exist\n",
    "\n",
    "- Rows - There is no primary key in the dataset to check if a case is included more than once. Therefore I compare against all features. This initially returned 4641 duplicate rows. To also include the rows that were matched I include \"keep=False\" parameter which returned 7858. Displaying these rows in a dataframe I can see that they have data included in the rows. I can see that there is no data specicific enough in this dataframe to assume that a duplicate row is a single case inputed more than once, rather it is more likely to be multiple cases that share these 19 features with another case. Therefore I wont be deleting any of these duplicate rows.\n",
    "\n",
    "- Columns - There are no duplicate columns. We can also see in the explanatory sheet that all features hold differet data."
   ]
  },
  {
   "cell_type": "markdown",
   "metadata": {},
   "source": [
    "### Check for constant features"
   ]
  },
  {
   "cell_type": "code",
   "execution_count": 99,
   "metadata": {},
   "outputs": [
    {
     "data": {
      "text/html": [
       "<div>\n",
       "<style scoped>\n",
       "    .dataframe tbody tr th:only-of-type {\n",
       "        vertical-align: middle;\n",
       "    }\n",
       "\n",
       "    .dataframe tbody tr th {\n",
       "        vertical-align: top;\n",
       "    }\n",
       "\n",
       "    .dataframe thead th {\n",
       "        text-align: right;\n",
       "    }\n",
       "</style>\n",
       "<table border=\"1\" class=\"dataframe\">\n",
       "  <thead>\n",
       "    <tr style=\"text-align: right;\">\n",
       "      <th></th>\n",
       "      <th>count</th>\n",
       "      <th>unique</th>\n",
       "      <th>top</th>\n",
       "      <th>freq</th>\n",
       "    </tr>\n",
       "  </thead>\n",
       "  <tbody>\n",
       "    <tr>\n",
       "      <th>case_month</th>\n",
       "      <td>50000</td>\n",
       "      <td>40</td>\n",
       "      <td>2022-01</td>\n",
       "      <td>6313</td>\n",
       "    </tr>\n",
       "    <tr>\n",
       "      <th>res_state</th>\n",
       "      <td>49999</td>\n",
       "      <td>50</td>\n",
       "      <td>NY</td>\n",
       "      <td>5653</td>\n",
       "    </tr>\n",
       "    <tr>\n",
       "      <th>state_fips_code</th>\n",
       "      <td>49999.0</td>\n",
       "      <td>50.0</td>\n",
       "      <td>36.0</td>\n",
       "      <td>5653.0</td>\n",
       "    </tr>\n",
       "    <tr>\n",
       "      <th>county_fips_code</th>\n",
       "      <td>47092.0</td>\n",
       "      <td>1358.0</td>\n",
       "      <td>12086.0</td>\n",
       "      <td>1006.0</td>\n",
       "    </tr>\n",
       "    <tr>\n",
       "      <th>age_group</th>\n",
       "      <td>49618</td>\n",
       "      <td>5</td>\n",
       "      <td>18 to 49 years</td>\n",
       "      <td>20040</td>\n",
       "    </tr>\n",
       "    <tr>\n",
       "      <th>sex</th>\n",
       "      <td>48858</td>\n",
       "      <td>4</td>\n",
       "      <td>Female</td>\n",
       "      <td>25440</td>\n",
       "    </tr>\n",
       "    <tr>\n",
       "      <th>race</th>\n",
       "      <td>43776</td>\n",
       "      <td>8</td>\n",
       "      <td>White</td>\n",
       "      <td>30382</td>\n",
       "    </tr>\n",
       "    <tr>\n",
       "      <th>ethnicity</th>\n",
       "      <td>43211</td>\n",
       "      <td>4</td>\n",
       "      <td>Non-Hispanic/Latino</td>\n",
       "      <td>29658</td>\n",
       "    </tr>\n",
       "    <tr>\n",
       "      <th>process</th>\n",
       "      <td>50000</td>\n",
       "      <td>9</td>\n",
       "      <td>Missing</td>\n",
       "      <td>45361</td>\n",
       "    </tr>\n",
       "    <tr>\n",
       "      <th>exposure_yn</th>\n",
       "      <td>50000</td>\n",
       "      <td>3</td>\n",
       "      <td>Missing</td>\n",
       "      <td>43020</td>\n",
       "    </tr>\n",
       "    <tr>\n",
       "      <th>current_status</th>\n",
       "      <td>50000</td>\n",
       "      <td>2</td>\n",
       "      <td>Laboratory-confirmed case</td>\n",
       "      <td>42181</td>\n",
       "    </tr>\n",
       "    <tr>\n",
       "      <th>symptom_status</th>\n",
       "      <td>50000</td>\n",
       "      <td>4</td>\n",
       "      <td>Symptomatic</td>\n",
       "      <td>22403</td>\n",
       "    </tr>\n",
       "    <tr>\n",
       "      <th>hosp_yn</th>\n",
       "      <td>50000</td>\n",
       "      <td>4</td>\n",
       "      <td>No</td>\n",
       "      <td>25400</td>\n",
       "    </tr>\n",
       "    <tr>\n",
       "      <th>icu_yn</th>\n",
       "      <td>50000</td>\n",
       "      <td>4</td>\n",
       "      <td>Missing</td>\n",
       "      <td>39011</td>\n",
       "    </tr>\n",
       "    <tr>\n",
       "      <th>death_yn</th>\n",
       "      <td>50000</td>\n",
       "      <td>2</td>\n",
       "      <td>No</td>\n",
       "      <td>40000</td>\n",
       "    </tr>\n",
       "    <tr>\n",
       "      <th>underlying_conditions_yn</th>\n",
       "      <td>4207</td>\n",
       "      <td>2</td>\n",
       "      <td>Yes</td>\n",
       "      <td>4153</td>\n",
       "    </tr>\n",
       "  </tbody>\n",
       "</table>\n",
       "</div>"
      ],
      "text/plain": [
       "                            count  unique                        top    freq\n",
       "case_month                  50000      40                    2022-01    6313\n",
       "res_state                   49999      50                         NY    5653\n",
       "state_fips_code           49999.0    50.0                       36.0  5653.0\n",
       "county_fips_code          47092.0  1358.0                    12086.0  1006.0\n",
       "age_group                   49618       5             18 to 49 years   20040\n",
       "sex                         48858       4                     Female   25440\n",
       "race                        43776       8                      White   30382\n",
       "ethnicity                   43211       4        Non-Hispanic/Latino   29658\n",
       "process                     50000       9                    Missing   45361\n",
       "exposure_yn                 50000       3                    Missing   43020\n",
       "current_status              50000       2  Laboratory-confirmed case   42181\n",
       "symptom_status              50000       4                Symptomatic   22403\n",
       "hosp_yn                     50000       4                         No   25400\n",
       "icu_yn                      50000       4                    Missing   39011\n",
       "death_yn                    50000       2                         No   40000\n",
       "underlying_conditions_yn     4207       2                        Yes    4153"
      ]
     },
     "execution_count": 99,
     "metadata": {},
     "output_type": "execute_result"
    }
   ],
   "source": [
    "category_features = df.select_dtypes(['category']).columns\n",
    "\n",
    "# Print table with categorical statistics\n",
    "df[category_features].describe().T"
   ]
  },
  {
   "cell_type": "markdown",
   "metadata": {},
   "source": [
    "**Categorical Data** - Reviewing the categorical data below we can see all unique values > 1, so there are no constant columns."
   ]
  },
  {
   "cell_type": "code",
   "execution_count": 100,
   "metadata": {},
   "outputs": [
    {
     "data": {
      "text/html": [
       "<div>\n",
       "<style scoped>\n",
       "    .dataframe tbody tr th:only-of-type {\n",
       "        vertical-align: middle;\n",
       "    }\n",
       "\n",
       "    .dataframe tbody tr th {\n",
       "        vertical-align: top;\n",
       "    }\n",
       "\n",
       "    .dataframe thead th {\n",
       "        text-align: right;\n",
       "    }\n",
       "</style>\n",
       "<table border=\"1\" class=\"dataframe\">\n",
       "  <thead>\n",
       "    <tr style=\"text-align: right;\">\n",
       "      <th></th>\n",
       "      <th>count</th>\n",
       "      <th>mean</th>\n",
       "      <th>std</th>\n",
       "      <th>min</th>\n",
       "      <th>25%</th>\n",
       "      <th>50%</th>\n",
       "      <th>75%</th>\n",
       "      <th>max</th>\n",
       "    </tr>\n",
       "  </thead>\n",
       "  <tbody>\n",
       "    <tr>\n",
       "      <th>case_positive_specimen_interval</th>\n",
       "      <td>26393.0</td>\n",
       "      <td>0.206835</td>\n",
       "      <td>2.907302</td>\n",
       "      <td>-89.0</td>\n",
       "      <td>0.0</td>\n",
       "      <td>0.0</td>\n",
       "      <td>0.0</td>\n",
       "      <td>194.0</td>\n",
       "    </tr>\n",
       "    <tr>\n",
       "      <th>case_onset_interval</th>\n",
       "      <td>21284.0</td>\n",
       "      <td>-0.050319</td>\n",
       "      <td>2.006323</td>\n",
       "      <td>-105.0</td>\n",
       "      <td>0.0</td>\n",
       "      <td>0.0</td>\n",
       "      <td>0.0</td>\n",
       "      <td>72.0</td>\n",
       "    </tr>\n",
       "  </tbody>\n",
       "</table>\n",
       "</div>"
      ],
      "text/plain": [
       "                                   count      mean       std    min  25%  50%  \\\n",
       "case_positive_specimen_interval  26393.0  0.206835  2.907302  -89.0  0.0  0.0   \n",
       "case_onset_interval              21284.0 -0.050319  2.006323 -105.0  0.0  0.0   \n",
       "\n",
       "                                 75%    max  \n",
       "case_positive_specimen_interval  0.0  194.0  \n",
       "case_onset_interval              0.0   72.0  "
      ]
     },
     "execution_count": 100,
     "metadata": {},
     "output_type": "execute_result"
    }
   ],
   "source": [
    "# Print table with continuous statistics\n",
    "df[continuous_features].describe().T"
   ]
  },
  {
   "cell_type": "markdown",
   "metadata": {},
   "source": [
    "**Continuous Data** - Reviewing the continuous data below we can see that allthough they both have a non zero standard deviation.  \n",
    "- This implies that a particular feature does not contain a single constant value in all of the rows. Thus in this case, none of the continuous features are constant.\n",
    "- Result - No constant columns"
   ]
  },
  {
   "cell_type": "markdown",
   "metadata": {},
   "source": [
    "There are no constant columns so we dont need to drop any more features."
   ]
  },
  {
   "cell_type": "markdown",
   "metadata": {},
   "source": [
    "### Check for Null Values"
   ]
  },
  {
   "cell_type": "code",
   "execution_count": 101,
   "metadata": {},
   "outputs": [
    {
     "data": {
      "text/plain": [
       "case_month                             0\n",
       "res_state                              1\n",
       "state_fips_code                        1\n",
       "county_fips_code                    2908\n",
       "age_group                            382\n",
       "sex                                 1142\n",
       "race                                6224\n",
       "ethnicity                           6789\n",
       "case_positive_specimen_interval    23607\n",
       "case_onset_interval                28716\n",
       "process                                0\n",
       "exposure_yn                            0\n",
       "current_status                         0\n",
       "symptom_status                         0\n",
       "hosp_yn                                0\n",
       "icu_yn                                 0\n",
       "death_yn                               0\n",
       "underlying_conditions_yn           45793\n",
       "dtype: int64"
      ]
     },
     "execution_count": 101,
     "metadata": {},
     "output_type": "execute_result"
    }
   ],
   "source": [
    "df.isnull().sum()"
   ]
  },
  {
   "cell_type": "markdown",
   "metadata": {},
   "source": [
    "There are many null answers in several categories. Even the categories that have no null answers have answeres such as 'Unknown' and 'Missing' that we will ahve to account for later."
   ]
  },
  {
   "cell_type": "markdown",
   "metadata": {},
   "source": [
    "### Check for Irregular cardinalities & permitted values"
   ]
  },
  {
   "cell_type": "code",
   "execution_count": 102,
   "metadata": {},
   "outputs": [
    {
     "name": "stdout",
     "output_type": "stream",
     "text": [
      "Unique values for:\n",
      "case_month:  ['2021-12', '2020-04', '2021-11', '2022-02', '2020-11', ..., '2020-01', '2022-08', '2022-04', '2022-03', '2020-02']\n",
      "Length: 40\n",
      "Categories (40, object): ['2020-01', '2020-02', '2020-03', '2020-04', ..., '2023-01', '2023-02', '2023-03', '2023-04']\n",
      "res_state:  ['CA', 'IL', 'AZ', 'MI', 'OH', ..., 'NE', 'AK', 'VT', 'VI', NaN]\n",
      "Length: 51\n",
      "Categories (50, object): ['AK', 'AL', 'AR', 'AZ', ..., 'VT', 'WA', 'WI', 'WY']\n",
      "state_fips_code:  [6.0, 17.0, 4.0, 26.0, 39.0, ..., 31.0, 2.0, 50.0, 78.0, NaN]\n",
      "Length: 51\n",
      "Categories (50, float64): [1.0, 2.0, 4.0, 5.0, ..., 55.0, 56.0, 72.0, 78.0]\n",
      "county_fips_code:  [6059.0, 17031.0, 4013.0, 26163.0, 39113.0, ..., 12063.0, 51075.0, 45053.0, 41007.0, 19123.0]\n",
      "Length: 1359\n",
      "Categories (1358, float64): [1001.0, 1003.0, 1005.0, 1009.0, ..., 56025.0, 56029.0, 56037.0, 56039.0]\n",
      "age_group:  ['65+ years', '50 to 64 years', '18 to 49 years', NaN, 'Missing', '0 - 17 years']\n",
      "Categories (5, object): ['0 - 17 years', '18 to 49 years', '50 to 64 years', '65+ years', 'Missing']\n",
      "sex:  ['Female', 'Male', NaN, 'Missing', 'Unknown']\n",
      "Categories (4, object): ['Female', 'Male', 'Missing', 'Unknown']\n",
      "race:  ['White', 'Asian', 'Black', NaN, 'Missing', 'Unknown', 'American Indian/Alaska Native', 'Multiple/Other', 'Native Hawaiian/Other Pacific Islander']\n",
      "Categories (8, object): ['American Indian/Alaska Native', 'Asian', 'Black', 'Missing', 'Multiple/Other', 'Native Hawaiian/Other Pacific Islander', 'Unknown', 'White']\n",
      "ethnicity:  ['Non-Hispanic/Latino', 'Hispanic/Latino', 'Unknown', NaN, 'Missing']\n",
      "Categories (4, object): ['Hispanic/Latino', 'Missing', 'Non-Hispanic/Latino', 'Unknown']\n",
      "process:  ['Missing', 'Laboratory reported', 'Routine surveillance', 'Clinical evaluation', 'Multiple', 'Contact tracing of case patient', 'Other', 'Unknown', 'Provider reported']\n",
      "Categories (9, object): ['Clinical evaluation', 'Contact tracing of case patient', 'Laboratory reported', 'Missing', ..., 'Other', 'Provider reported', 'Routine surveillance', 'Unknown']\n",
      "exposure_yn:  ['Missing', 'Yes', 'Unknown']\n",
      "Categories (3, object): ['Missing', 'Unknown', 'Yes']\n",
      "current_status:  ['Laboratory-confirmed case', 'Probable Case']\n",
      "Categories (2, object): ['Laboratory-confirmed case', 'Probable Case']\n",
      "symptom_status:  ['Unknown', 'Missing', 'Symptomatic', 'Asymptomatic']\n",
      "Categories (4, object): ['Asymptomatic', 'Missing', 'Symptomatic', 'Unknown']\n",
      "hosp_yn:  ['No', 'Yes', 'Missing', 'Unknown']\n",
      "Categories (4, object): ['Missing', 'No', 'Unknown', 'Yes']\n",
      "icu_yn:  ['Missing', 'No', 'Unknown', 'Yes']\n",
      "Categories (4, object): ['Missing', 'No', 'Unknown', 'Yes']\n",
      "death_yn:  ['Yes', 'No']\n",
      "Categories (2, object): ['No', 'Yes']\n",
      "underlying_conditions_yn:  [NaN, 'Yes', 'No']\n",
      "Categories (2, object): ['No', 'Yes']\n"
     ]
    },
    {
     "name": "stderr",
     "output_type": "stream",
     "text": [
      "/var/folders/bv/rb38h6217gx4kkts7z_mq6bh0000gt/T/ipykernel_31135/4273595722.py:4: FutureWarning: Series.ravel is deprecated. The underlying array is already 1D, so ravel is not necessary.  Use `to_numpy()` for conversion to a numpy array instead.\n",
      "  print(f\"{cat}: \", pd.unique(df[cat].ravel()))\n"
     ]
    }
   ],
   "source": [
    "# Check for irregular cardinality & permitted values in categorical features. \n",
    "print(\"Unique values for:\")\n",
    "for cat in category_features:\n",
    "    print(f\"{cat}: \", pd.unique(df[cat].ravel()))"
   ]
  },
  {
   "cell_type": "markdown",
   "metadata": {},
   "source": [
    "There are no irregular cardinalities. Asside from missing data, the values that appear seem to be in the permitted range."
   ]
  },
  {
   "cell_type": "markdown",
   "metadata": {},
   "source": [
    "## Descriptive Statistics: Continuous Features\n",
    "Of the continuous features, we already know:\n",
    "-  The type of data for each\n",
    "\n",
    "<br>\n",
    "We now supplement this information with the following\n",
    "\n",
    "-  The range into which each feature can fall\n",
    "-  A numerical representation of how these values are distributed across the upper tiers of that range \n",
    "-  Feature cardinality"
   ]
  },
  {
   "cell_type": "code",
   "execution_count": 103,
   "metadata": {},
   "outputs": [
    {
     "name": "stdout",
     "output_type": "stream",
     "text": [
      "case_positive_specimen_interval\n",
      "----------\n",
      "\n",
      "Range case_positive_specimen_interval is:  283.0\n",
      "----------\n",
      "Value  Number of Instances\n",
      "case_positive_specimen_interval\n",
      " 0.0     23550\n",
      " 1.0      2275\n",
      " 2.0       237\n",
      "-1.0        68\n",
      " 3.0        49\n",
      " 4.0        26\n",
      " 5.0        14\n",
      "-2.0        12\n",
      "-3.0         8\n",
      "-4.0         7\n",
      " 7.0         6\n",
      " 6.0         6\n",
      " 8.0         6\n",
      " 12.0        5\n",
      " 14.0        5\n",
      "Name: count, dtype: int64 \n",
      "\n",
      "\n",
      "\n",
      "case_onset_interval\n",
      "----------\n",
      "\n",
      "Range case_onset_interval is:  177.0\n",
      "----------\n",
      "Value  Number of Instances\n",
      "case_onset_interval\n",
      " 0.0     20449\n",
      "-1.0       421\n",
      "-2.0       141\n",
      " 1.0        41\n",
      "-3.0        40\n",
      "-4.0        22\n",
      " 2.0        16\n",
      "-5.0        15\n",
      "-7.0        12\n",
      "-6.0        10\n",
      "-8.0        10\n",
      " 3.0         8\n",
      " 4.0         8\n",
      "-11.0        7\n",
      "-9.0         7\n",
      "Name: count, dtype: int64 \n",
      "\n",
      "\n",
      "\n"
     ]
    }
   ],
   "source": [
    "# For each continuous feature, we display the range of values it takes.\n",
    "# We also display the number of instances each of its values has.\n",
    "\n",
    "for feature in continuous_features:\n",
    "    print(feature)\n",
    "    print(\"----------\\n\")\n",
    "    print(\"Range {} is: \".format(feature), (df[feature].max() - df[feature].min()))\n",
    "    print(\"----------\")\n",
    "    print('{0:.5}  {1}'.format(\"Value\", \"Number of Instances\"))\n",
    "    print(df[feature].value_counts().nlargest(15), \"\\n\\n\\n\")"
   ]
  },
  {
   "cell_type": "code",
   "execution_count": 104,
   "metadata": {},
   "outputs": [
    {
     "name": "stdout",
     "output_type": "stream",
     "text": [
      "Feature                              Cardinality\n",
      "-------                              --------------- \n",
      "\n",
      "case_positive_specimen_interval      91\n",
      "case_onset_interval                  58\n"
     ]
    }
   ],
   "source": [
    "# Display the cardinality of each continuous feature\n",
    "\n",
    "features_cardinality = list(continuous_features.values)\n",
    "\n",
    "print('{0:35}  {1}'.format(\"Feature\", \"Cardinality\"))\n",
    "print('{0:35}  {1}'.format(\"-------\", \"--------------- \\n\"))\n",
    "\n",
    "for c in features_cardinality:\n",
    "    print('{0:35}  {1}'.format(c, str(len(df[c].unique()))))"
   ]
  },
  {
   "cell_type": "markdown",
   "metadata": {},
   "source": [
    "### Check logical integrity of data \n",
    "A number of additional checks will be performed to see if the data makes sense. Depending on the amount of data affected we may decide to drop those rows or replace the values."
   ]
  },
  {
   "cell_type": "markdown",
   "metadata": {},
   "source": [
    " - Test 1 Check if any entries have a case month before Jan. 2020 (USA earliest recorded case according to CDC website)"
   ]
  },
  {
   "cell_type": "code",
   "execution_count": 105,
   "metadata": {},
   "outputs": [
    {
     "name": "stdout",
     "output_type": "stream",
     "text": [
      "Empty DataFrame\n",
      "Columns: [case_month, res_state, state_fips_code, county_fips_code, age_group, sex, race, ethnicity, case_positive_specimen_interval, case_onset_interval, process, exposure_yn, current_status, symptom_status, hosp_yn, icu_yn, death_yn, underlying_conditions_yn]\n",
      "Index: []\n"
     ]
    }
   ],
   "source": [
    "#any thing with a year of before 2020 or after 2024 must be faulty data.\n",
    "test_1_year = (df[\"case_month\"].str[:4]).astype('int64')\n",
    "failed_rows = pd.concat([df[test_1_year < 2020], df[test_1_year > 2024]], axis=0)\n",
    "print(failed_rows)\n"
   ]
  },
  {
   "cell_type": "markdown",
   "metadata": {},
   "source": [
    " - Test 2 Check if any entries include a state/territory that doesn't exist using state_fips_code (which range from 01 to 79)."
   ]
  },
  {
   "cell_type": "code",
   "execution_count": 106,
   "metadata": {},
   "outputs": [
    {
     "name": "stdout",
     "output_type": "stream",
     "text": [
      "Empty DataFrame\n",
      "Columns: [case_month, res_state, state_fips_code, county_fips_code, age_group, sex, race, ethnicity, case_positive_specimen_interval, case_onset_interval, process, exposure_yn, current_status, symptom_status, hosp_yn, icu_yn, death_yn, underlying_conditions_yn]\n",
      "Index: []\n"
     ]
    }
   ],
   "source": [
    "#return the fips code to a float so we can compare it numericaly\n",
    "test_2_code = (df[\"state_fips_code\"]).astype(\"float64\")\n",
    "failed_rows = pd.concat([df[test_2_code < 1.0], df[test_2_code > 79.0]], axis=0)\n",
    "print(failed_rows)"
   ]
  },
  {
   "cell_type": "markdown",
   "metadata": {},
   "source": [
    "I am done with the test that needed the state_fips code so I will now drop the column."
   ]
  },
  {
   "cell_type": "code",
   "execution_count": 107,
   "metadata": {},
   "outputs": [],
   "source": [
    "df = df.drop('state_fips_code', axis=1)"
   ]
  },
  {
   "cell_type": "markdown",
   "metadata": {},
   "source": [
    " - Test 3 Check if any entries include a county that doesn't exist using county_fips_code (which range from 01000 to 56045 since territories dont have county fips codes)."
   ]
  },
  {
   "cell_type": "code",
   "execution_count": 108,
   "metadata": {},
   "outputs": [
    {
     "name": "stdout",
     "output_type": "stream",
     "text": [
      "Empty DataFrame\n",
      "Columns: [case_month, res_state, county_fips_code, age_group, sex, race, ethnicity, case_positive_specimen_interval, case_onset_interval, process, exposure_yn, current_status, symptom_status, hosp_yn, icu_yn, death_yn, underlying_conditions_yn]\n",
      "Index: []\n"
     ]
    }
   ],
   "source": [
    "#return the fips code to a float so we can compare it numericaly\n",
    "test_3_code = (df[\"county_fips_code\"]).astype(\"float64\")\n",
    "failed_rows = pd.concat([df[test_3_code < 1000.0], df[test_3_code > 56045.0]], axis=0)\n",
    "print(failed_rows)"
   ]
  },
  {
   "cell_type": "markdown",
   "metadata": {},
   "source": [
    " - Test 4 Check if any entries that were addmitted to the ICU were not admitted to a hospital (impossible)"
   ]
  },
  {
   "cell_type": "code",
   "execution_count": 109,
   "metadata": {},
   "outputs": [
    {
     "name": "stdout",
     "output_type": "stream",
     "text": [
      "Number of rows failing the test:  6\n"
     ]
    },
    {
     "data": {
      "text/html": [
       "<div>\n",
       "<style scoped>\n",
       "    .dataframe tbody tr th:only-of-type {\n",
       "        vertical-align: middle;\n",
       "    }\n",
       "\n",
       "    .dataframe tbody tr th {\n",
       "        vertical-align: top;\n",
       "    }\n",
       "\n",
       "    .dataframe thead th {\n",
       "        text-align: right;\n",
       "    }\n",
       "</style>\n",
       "<table border=\"1\" class=\"dataframe\">\n",
       "  <thead>\n",
       "    <tr style=\"text-align: right;\">\n",
       "      <th></th>\n",
       "      <th>case_month</th>\n",
       "      <th>res_state</th>\n",
       "      <th>county_fips_code</th>\n",
       "      <th>age_group</th>\n",
       "      <th>sex</th>\n",
       "      <th>race</th>\n",
       "      <th>ethnicity</th>\n",
       "      <th>case_positive_specimen_interval</th>\n",
       "      <th>case_onset_interval</th>\n",
       "      <th>process</th>\n",
       "      <th>exposure_yn</th>\n",
       "      <th>current_status</th>\n",
       "      <th>symptom_status</th>\n",
       "      <th>hosp_yn</th>\n",
       "      <th>icu_yn</th>\n",
       "      <th>death_yn</th>\n",
       "      <th>underlying_conditions_yn</th>\n",
       "    </tr>\n",
       "  </thead>\n",
       "  <tbody>\n",
       "    <tr>\n",
       "      <th>963</th>\n",
       "      <td>2020-11</td>\n",
       "      <td>KS</td>\n",
       "      <td>NaN</td>\n",
       "      <td>50 to 64 years</td>\n",
       "      <td>Male</td>\n",
       "      <td>White</td>\n",
       "      <td>Non-Hispanic/Latino</td>\n",
       "      <td>1.0</td>\n",
       "      <td>0.0</td>\n",
       "      <td>Multiple</td>\n",
       "      <td>Yes</td>\n",
       "      <td>Laboratory-confirmed case</td>\n",
       "      <td>Symptomatic</td>\n",
       "      <td>No</td>\n",
       "      <td>Yes</td>\n",
       "      <td>Yes</td>\n",
       "      <td>NaN</td>\n",
       "    </tr>\n",
       "    <tr>\n",
       "      <th>4187</th>\n",
       "      <td>2021-12</td>\n",
       "      <td>KS</td>\n",
       "      <td>NaN</td>\n",
       "      <td>65+ years</td>\n",
       "      <td>Male</td>\n",
       "      <td>White</td>\n",
       "      <td>Non-Hispanic/Latino</td>\n",
       "      <td>NaN</td>\n",
       "      <td>0.0</td>\n",
       "      <td>Missing</td>\n",
       "      <td>Missing</td>\n",
       "      <td>Laboratory-confirmed case</td>\n",
       "      <td>Symptomatic</td>\n",
       "      <td>No</td>\n",
       "      <td>Yes</td>\n",
       "      <td>Yes</td>\n",
       "      <td>NaN</td>\n",
       "    </tr>\n",
       "    <tr>\n",
       "      <th>5218</th>\n",
       "      <td>2020-11</td>\n",
       "      <td>KS</td>\n",
       "      <td>20173.0</td>\n",
       "      <td>65+ years</td>\n",
       "      <td>Female</td>\n",
       "      <td>White</td>\n",
       "      <td>Non-Hispanic/Latino</td>\n",
       "      <td>0.0</td>\n",
       "      <td>0.0</td>\n",
       "      <td>Laboratory reported</td>\n",
       "      <td>Unknown</td>\n",
       "      <td>Laboratory-confirmed case</td>\n",
       "      <td>Symptomatic</td>\n",
       "      <td>No</td>\n",
       "      <td>Yes</td>\n",
       "      <td>Yes</td>\n",
       "      <td>NaN</td>\n",
       "    </tr>\n",
       "    <tr>\n",
       "      <th>5491</th>\n",
       "      <td>2021-10</td>\n",
       "      <td>KS</td>\n",
       "      <td>NaN</td>\n",
       "      <td>50 to 64 years</td>\n",
       "      <td>Male</td>\n",
       "      <td>White</td>\n",
       "      <td>Non-Hispanic/Latino</td>\n",
       "      <td>1.0</td>\n",
       "      <td>0.0</td>\n",
       "      <td>Laboratory reported</td>\n",
       "      <td>Unknown</td>\n",
       "      <td>Laboratory-confirmed case</td>\n",
       "      <td>Symptomatic</td>\n",
       "      <td>No</td>\n",
       "      <td>Yes</td>\n",
       "      <td>Yes</td>\n",
       "      <td>NaN</td>\n",
       "    </tr>\n",
       "    <tr>\n",
       "      <th>7412</th>\n",
       "      <td>2021-08</td>\n",
       "      <td>KS</td>\n",
       "      <td>NaN</td>\n",
       "      <td>65+ years</td>\n",
       "      <td>Female</td>\n",
       "      <td>White</td>\n",
       "      <td>Non-Hispanic/Latino</td>\n",
       "      <td>1.0</td>\n",
       "      <td>0.0</td>\n",
       "      <td>Missing</td>\n",
       "      <td>Missing</td>\n",
       "      <td>Laboratory-confirmed case</td>\n",
       "      <td>Symptomatic</td>\n",
       "      <td>No</td>\n",
       "      <td>Yes</td>\n",
       "      <td>Yes</td>\n",
       "      <td>NaN</td>\n",
       "    </tr>\n",
       "    <tr>\n",
       "      <th>9894</th>\n",
       "      <td>2021-07</td>\n",
       "      <td>KS</td>\n",
       "      <td>NaN</td>\n",
       "      <td>65+ years</td>\n",
       "      <td>Male</td>\n",
       "      <td>White</td>\n",
       "      <td>Non-Hispanic/Latino</td>\n",
       "      <td>0.0</td>\n",
       "      <td>0.0</td>\n",
       "      <td>Laboratory reported</td>\n",
       "      <td>Missing</td>\n",
       "      <td>Probable Case</td>\n",
       "      <td>Symptomatic</td>\n",
       "      <td>No</td>\n",
       "      <td>Yes</td>\n",
       "      <td>Yes</td>\n",
       "      <td>NaN</td>\n",
       "    </tr>\n",
       "  </tbody>\n",
       "</table>\n",
       "</div>"
      ],
      "text/plain": [
       "     case_month res_state county_fips_code       age_group     sex   race  \\\n",
       "963     2020-11        KS              NaN  50 to 64 years    Male  White   \n",
       "4187    2021-12        KS              NaN       65+ years    Male  White   \n",
       "5218    2020-11        KS          20173.0       65+ years  Female  White   \n",
       "5491    2021-10        KS              NaN  50 to 64 years    Male  White   \n",
       "7412    2021-08        KS              NaN       65+ years  Female  White   \n",
       "9894    2021-07        KS              NaN       65+ years    Male  White   \n",
       "\n",
       "                ethnicity  case_positive_specimen_interval  \\\n",
       "963   Non-Hispanic/Latino                              1.0   \n",
       "4187  Non-Hispanic/Latino                              NaN   \n",
       "5218  Non-Hispanic/Latino                              0.0   \n",
       "5491  Non-Hispanic/Latino                              1.0   \n",
       "7412  Non-Hispanic/Latino                              1.0   \n",
       "9894  Non-Hispanic/Latino                              0.0   \n",
       "\n",
       "      case_onset_interval              process exposure_yn  \\\n",
       "963                   0.0             Multiple         Yes   \n",
       "4187                  0.0              Missing     Missing   \n",
       "5218                  0.0  Laboratory reported     Unknown   \n",
       "5491                  0.0  Laboratory reported     Unknown   \n",
       "7412                  0.0              Missing     Missing   \n",
       "9894                  0.0  Laboratory reported     Missing   \n",
       "\n",
       "                 current_status symptom_status hosp_yn icu_yn death_yn  \\\n",
       "963   Laboratory-confirmed case    Symptomatic      No    Yes      Yes   \n",
       "4187  Laboratory-confirmed case    Symptomatic      No    Yes      Yes   \n",
       "5218  Laboratory-confirmed case    Symptomatic      No    Yes      Yes   \n",
       "5491  Laboratory-confirmed case    Symptomatic      No    Yes      Yes   \n",
       "7412  Laboratory-confirmed case    Symptomatic      No    Yes      Yes   \n",
       "9894              Probable Case    Symptomatic      No    Yes      Yes   \n",
       "\n",
       "     underlying_conditions_yn  \n",
       "963                       NaN  \n",
       "4187                      NaN  \n",
       "5218                      NaN  \n",
       "5491                      NaN  \n",
       "7412                      NaN  \n",
       "9894                      NaN  "
      ]
     },
     "execution_count": 109,
     "metadata": {},
     "output_type": "execute_result"
    }
   ],
   "source": [
    "test_4 = df[df['icu_yn'] == 'Yes']\n",
    "failed_rows = df[(df['icu_yn'] == 'Yes') & (df['hosp_yn'] != 'Yes')]\n",
    "print(\"Number of rows failing the test: \", failed_rows.shape[0])\n",
    "failed_rows.head(6)"
   ]
  },
  {
   "cell_type": "markdown",
   "metadata": {},
   "source": [
    "because all of these cases died in the ICU, I can assume the hospitalization value is an error. I am going to change it to yes on all of these rows in my data quality plan."
   ]
  },
  {
   "cell_type": "markdown",
   "metadata": {},
   "source": [
    "Data is cleaned so save to a new CSV"
   ]
  },
  {
   "cell_type": "code",
   "execution_count": 110,
   "metadata": {},
   "outputs": [],
   "source": [
    "df.to_csv(\"covid_data_clean.csv\", index=False)"
   ]
  },
  {
   "cell_type": "markdown",
   "metadata": {},
   "source": [
    "# Continue with new cleaned CSV"
   ]
  },
  {
   "cell_type": "code",
   "execution_count": 111,
   "metadata": {},
   "outputs": [],
   "source": [
    "df = pd.read_csv('covid_data_clean.csv', keep_default_na=True, delimiter=',', skipinitialspace=True)"
   ]
  },
  {
   "cell_type": "code",
   "execution_count": 112,
   "metadata": {},
   "outputs": [
    {
     "name": "stdout",
     "output_type": "stream",
     "text": [
      "<class 'pandas.core.frame.DataFrame'>\n",
      "RangeIndex: 50000 entries, 0 to 49999\n",
      "Data columns (total 17 columns):\n",
      " #   Column                           Non-Null Count  Dtype  \n",
      "---  ------                           --------------  -----  \n",
      " 0   case_month                       50000 non-null  object \n",
      " 1   res_state                        49999 non-null  object \n",
      " 2   county_fips_code                 47092 non-null  float64\n",
      " 3   age_group                        49618 non-null  object \n",
      " 4   sex                              48858 non-null  object \n",
      " 5   race                             43776 non-null  object \n",
      " 6   ethnicity                        43211 non-null  object \n",
      " 7   case_positive_specimen_interval  26393 non-null  float64\n",
      " 8   case_onset_interval              21284 non-null  float64\n",
      " 9   process                          50000 non-null  object \n",
      " 10  exposure_yn                      50000 non-null  object \n",
      " 11  current_status                   50000 non-null  object \n",
      " 12  symptom_status                   50000 non-null  object \n",
      " 13  hosp_yn                          50000 non-null  object \n",
      " 14  icu_yn                           50000 non-null  object \n",
      " 15  death_yn                         50000 non-null  object \n",
      " 16  underlying_conditions_yn         4207 non-null   object \n",
      "dtypes: float64(3), object(14)\n",
      "memory usage: 6.5+ MB\n"
     ]
    }
   ],
   "source": [
    "df.info()"
   ]
  },
  {
   "cell_type": "markdown",
   "metadata": {},
   "source": [
    "my features of type category reverted to theire old datatypes so I will cahnge them back."
   ]
  },
  {
   "cell_type": "code",
   "execution_count": 113,
   "metadata": {},
   "outputs": [],
   "source": [
    "for object in df.select_dtypes(['object']).columns:\n",
    "    df[object] = df[object].astype('category')\n",
    "df[\"county_fips_code\"] = df[\"county_fips_code\"].astype('category')\n",
    "category_features = df.select_dtypes(['category']).columns\n",
    "\n",
    "continuous_features = df.select_dtypes(['float64']).columns"
   ]
  },
  {
   "cell_type": "markdown",
   "metadata": {},
   "source": [
    "Creat a table of descriptive statistics for continous features."
   ]
  },
  {
   "cell_type": "code",
   "execution_count": 114,
   "metadata": {},
   "outputs": [
    {
     "data": {
      "text/html": [
       "<div>\n",
       "<style scoped>\n",
       "    .dataframe tbody tr th:only-of-type {\n",
       "        vertical-align: middle;\n",
       "    }\n",
       "\n",
       "    .dataframe tbody tr th {\n",
       "        vertical-align: top;\n",
       "    }\n",
       "\n",
       "    .dataframe thead th {\n",
       "        text-align: right;\n",
       "    }\n",
       "</style>\n",
       "<table border=\"1\" class=\"dataframe\">\n",
       "  <thead>\n",
       "    <tr style=\"text-align: right;\">\n",
       "      <th></th>\n",
       "      <th>count</th>\n",
       "      <th>unique</th>\n",
       "      <th>top</th>\n",
       "      <th>freq</th>\n",
       "    </tr>\n",
       "  </thead>\n",
       "  <tbody>\n",
       "    <tr>\n",
       "      <th>case_month</th>\n",
       "      <td>50000</td>\n",
       "      <td>40</td>\n",
       "      <td>2022-01</td>\n",
       "      <td>6313</td>\n",
       "    </tr>\n",
       "    <tr>\n",
       "      <th>res_state</th>\n",
       "      <td>49999</td>\n",
       "      <td>50</td>\n",
       "      <td>NY</td>\n",
       "      <td>5653</td>\n",
       "    </tr>\n",
       "    <tr>\n",
       "      <th>county_fips_code</th>\n",
       "      <td>47092.0</td>\n",
       "      <td>1358.0</td>\n",
       "      <td>12086.0</td>\n",
       "      <td>1006.0</td>\n",
       "    </tr>\n",
       "    <tr>\n",
       "      <th>age_group</th>\n",
       "      <td>49618</td>\n",
       "      <td>5</td>\n",
       "      <td>18 to 49 years</td>\n",
       "      <td>20040</td>\n",
       "    </tr>\n",
       "    <tr>\n",
       "      <th>sex</th>\n",
       "      <td>48858</td>\n",
       "      <td>4</td>\n",
       "      <td>Female</td>\n",
       "      <td>25440</td>\n",
       "    </tr>\n",
       "    <tr>\n",
       "      <th>race</th>\n",
       "      <td>43776</td>\n",
       "      <td>8</td>\n",
       "      <td>White</td>\n",
       "      <td>30382</td>\n",
       "    </tr>\n",
       "    <tr>\n",
       "      <th>ethnicity</th>\n",
       "      <td>43211</td>\n",
       "      <td>4</td>\n",
       "      <td>Non-Hispanic/Latino</td>\n",
       "      <td>29658</td>\n",
       "    </tr>\n",
       "    <tr>\n",
       "      <th>process</th>\n",
       "      <td>50000</td>\n",
       "      <td>9</td>\n",
       "      <td>Missing</td>\n",
       "      <td>45361</td>\n",
       "    </tr>\n",
       "    <tr>\n",
       "      <th>exposure_yn</th>\n",
       "      <td>50000</td>\n",
       "      <td>3</td>\n",
       "      <td>Missing</td>\n",
       "      <td>43020</td>\n",
       "    </tr>\n",
       "    <tr>\n",
       "      <th>current_status</th>\n",
       "      <td>50000</td>\n",
       "      <td>2</td>\n",
       "      <td>Laboratory-confirmed case</td>\n",
       "      <td>42181</td>\n",
       "    </tr>\n",
       "    <tr>\n",
       "      <th>symptom_status</th>\n",
       "      <td>50000</td>\n",
       "      <td>4</td>\n",
       "      <td>Symptomatic</td>\n",
       "      <td>22403</td>\n",
       "    </tr>\n",
       "    <tr>\n",
       "      <th>hosp_yn</th>\n",
       "      <td>50000</td>\n",
       "      <td>4</td>\n",
       "      <td>No</td>\n",
       "      <td>25400</td>\n",
       "    </tr>\n",
       "    <tr>\n",
       "      <th>icu_yn</th>\n",
       "      <td>50000</td>\n",
       "      <td>4</td>\n",
       "      <td>Missing</td>\n",
       "      <td>39011</td>\n",
       "    </tr>\n",
       "    <tr>\n",
       "      <th>death_yn</th>\n",
       "      <td>50000</td>\n",
       "      <td>2</td>\n",
       "      <td>No</td>\n",
       "      <td>40000</td>\n",
       "    </tr>\n",
       "    <tr>\n",
       "      <th>underlying_conditions_yn</th>\n",
       "      <td>4207</td>\n",
       "      <td>2</td>\n",
       "      <td>Yes</td>\n",
       "      <td>4153</td>\n",
       "    </tr>\n",
       "  </tbody>\n",
       "</table>\n",
       "</div>"
      ],
      "text/plain": [
       "                            count  unique                        top    freq\n",
       "case_month                  50000      40                    2022-01    6313\n",
       "res_state                   49999      50                         NY    5653\n",
       "county_fips_code          47092.0  1358.0                    12086.0  1006.0\n",
       "age_group                   49618       5             18 to 49 years   20040\n",
       "sex                         48858       4                     Female   25440\n",
       "race                        43776       8                      White   30382\n",
       "ethnicity                   43211       4        Non-Hispanic/Latino   29658\n",
       "process                     50000       9                    Missing   45361\n",
       "exposure_yn                 50000       3                    Missing   43020\n",
       "current_status              50000       2  Laboratory-confirmed case   42181\n",
       "symptom_status              50000       4                Symptomatic   22403\n",
       "hosp_yn                     50000       4                         No   25400\n",
       "icu_yn                      50000       4                    Missing   39011\n",
       "death_yn                    50000       2                         No   40000\n",
       "underlying_conditions_yn     4207       2                        Yes    4153"
      ]
     },
     "execution_count": 114,
     "metadata": {},
     "output_type": "execute_result"
    }
   ],
   "source": [
    "df[category_features].describe().T"
   ]
  },
  {
   "cell_type": "markdown",
   "metadata": {},
   "source": [
    "We can see that there are several features that should have only 2 unique values, that have more. This points to invalid values in rows. We also see features with less than 50,000 values, this means missing data. Another worry is those features where the most frequent value is 'Missing'. This means that there is more values missing than provided."
   ]
  },
  {
   "cell_type": "markdown",
   "metadata": {},
   "source": [
    "Creat a table of descriptive statistics for categorical features."
   ]
  },
  {
   "cell_type": "code",
   "execution_count": 115,
   "metadata": {},
   "outputs": [
    {
     "data": {
      "text/html": [
       "<div>\n",
       "<style scoped>\n",
       "    .dataframe tbody tr th:only-of-type {\n",
       "        vertical-align: middle;\n",
       "    }\n",
       "\n",
       "    .dataframe tbody tr th {\n",
       "        vertical-align: top;\n",
       "    }\n",
       "\n",
       "    .dataframe thead th {\n",
       "        text-align: right;\n",
       "    }\n",
       "</style>\n",
       "<table border=\"1\" class=\"dataframe\">\n",
       "  <thead>\n",
       "    <tr style=\"text-align: right;\">\n",
       "      <th></th>\n",
       "      <th>count</th>\n",
       "      <th>mean</th>\n",
       "      <th>std</th>\n",
       "      <th>min</th>\n",
       "      <th>25%</th>\n",
       "      <th>50%</th>\n",
       "      <th>75%</th>\n",
       "      <th>max</th>\n",
       "    </tr>\n",
       "  </thead>\n",
       "  <tbody>\n",
       "    <tr>\n",
       "      <th>case_positive_specimen_interval</th>\n",
       "      <td>26393.0</td>\n",
       "      <td>0.206835</td>\n",
       "      <td>2.907302</td>\n",
       "      <td>-89.0</td>\n",
       "      <td>0.0</td>\n",
       "      <td>0.0</td>\n",
       "      <td>0.0</td>\n",
       "      <td>194.0</td>\n",
       "    </tr>\n",
       "    <tr>\n",
       "      <th>case_onset_interval</th>\n",
       "      <td>21284.0</td>\n",
       "      <td>-0.050319</td>\n",
       "      <td>2.006323</td>\n",
       "      <td>-105.0</td>\n",
       "      <td>0.0</td>\n",
       "      <td>0.0</td>\n",
       "      <td>0.0</td>\n",
       "      <td>72.0</td>\n",
       "    </tr>\n",
       "  </tbody>\n",
       "</table>\n",
       "</div>"
      ],
      "text/plain": [
       "                                   count      mean       std    min  25%  50%  \\\n",
       "case_positive_specimen_interval  26393.0  0.206835  2.907302  -89.0  0.0  0.0   \n",
       "case_onset_interval              21284.0 -0.050319  2.006323 -105.0  0.0  0.0   \n",
       "\n",
       "                                 75%    max  \n",
       "case_positive_specimen_interval  0.0  194.0  \n",
       "case_onset_interval              0.0   72.0  "
      ]
     },
     "execution_count": 115,
     "metadata": {},
     "output_type": "execute_result"
    }
   ],
   "source": [
    "df[continuous_features].describe().T"
   ]
  },
  {
   "cell_type": "markdown",
   "metadata": {},
   "source": [
    "We can see that both of these features are missing over 20,000 rows each. We can see that despite large max values and very large negative values for min, the mean is still very close to 0 for each of these features, this means that a huge number of these values are 0 for both features. We can also see that in the 25%, 50%, 75% breakdown. The fact that they are all 0 means that a huge majority of values are zero. This points to those large max and min values being outliers. "
   ]
  },
  {
   "cell_type": "markdown",
   "metadata": {},
   "source": [
    "Historgram for case_positive_specimen_interval"
   ]
  },
  {
   "cell_type": "code",
   "execution_count": 116,
   "metadata": {},
   "outputs": [
    {
     "data": {
      "image/png": "[encoded data removed]",
      "text/plain": [
       "<Figure size 500x500 with 1 Axes>"
      ]
     },
     "metadata": {},
     "output_type": "display_data"
    }
   ],
   "source": [
    "df['case_positive_specimen_interval'].plot(kind='hist', figsize=(5,5))\n",
    "plt.show()"
   ]
  },
  {
   "cell_type": "markdown",
   "metadata": {},
   "source": [
    "So many of the rows have a value of 0 that even in the description we can see that the standard deviation of 25% and 75% are both 0. this means the bars in the other bins are going to be too small to see and not provide any useful data."
   ]
  },
  {
   "cell_type": "markdown",
   "metadata": {},
   "source": [
    "Historgram for case_onset_interval"
   ]
  },
  {
   "cell_type": "code",
   "execution_count": 117,
   "metadata": {},
   "outputs": [
    {
     "data": {
      "image/png": "[encoded data removed]",
      "text/plain": [
       "<Figure size 500x500 with 1 Axes>"
      ]
     },
     "metadata": {},
     "output_type": "display_data"
    }
   ],
   "source": [
    "df['case_onset_interval'].plot(kind='hist', figsize=(5,5))\n",
    "plt.show()"
   ]
  },
  {
   "cell_type": "markdown",
   "metadata": {},
   "source": [
    "This one has the same issues as the last histogram. In this case we can at least see a little bar in the >0 - 20 range, but nothing else."
   ]
  },
  {
   "cell_type": "markdown",
   "metadata": {},
   "source": [
    "Boxplot for case_positive_specimen_interval"
   ]
  },
  {
   "cell_type": "code",
   "execution_count": 118,
   "metadata": {},
   "outputs": [
    {
     "data": {
      "image/png": "[encoded data removed]",
      "text/plain": [
       "<Figure size 500x500 with 1 Axes>"
      ]
     },
     "metadata": {},
     "output_type": "display_data"
    }
   ],
   "source": [
    "df['case_positive_specimen_interval'].plot(kind='box', figsize=(5,5))\n",
    "plt.show()"
   ]
  },
  {
   "cell_type": "markdown",
   "metadata": {},
   "source": [
    "we can see that the rows with a value of 0 still are so dominant that the standard deviations dont provide us with any additional info. but we can see the spread of more outlier points on this chart. We can also easily see that maximum and minimum values. I also want to see if the data is clearer when the outliers are removed."
   ]
  },
  {
   "cell_type": "markdown",
   "metadata": {},
   "source": [
    "Boxplot for  case_onset_interval"
   ]
  },
  {
   "cell_type": "code",
   "execution_count": 119,
   "metadata": {},
   "outputs": [
    {
     "data": {
      "image/png": "[encoded data removed]",
      "text/plain": [
       "<Figure size 500x500 with 1 Axes>"
      ]
     },
     "metadata": {},
     "output_type": "display_data"
    }
   ],
   "source": [
    "df['case_onset_interval'].plot(kind='box', figsize=(5,5))\n",
    "plt.show()"
   ]
  },
  {
   "cell_type": "markdown",
   "metadata": {},
   "source": [
    "Simmilar results to the box plot above. I again want to see if the data is clearer with the outliers are removed."
   ]
  },
  {
   "cell_type": "markdown",
   "metadata": {},
   "source": [
    "I want to see how many of the rows have a zero value for each of the continuous features."
   ]
  },
  {
   "cell_type": "code",
   "execution_count": 120,
   "metadata": {},
   "outputs": [
    {
     "name": "stdout",
     "output_type": "stream",
     "text": [
      "23550\n",
      "20449\n"
     ]
    }
   ],
   "source": [
    "print((df['case_positive_specimen_interval'] == 0).sum())\n",
    "print((df['case_onset_interval'] == 0).sum())"
   ]
  },
  {
   "cell_type": "markdown",
   "metadata": {},
   "source": [
    "~89.2% of the 26,393 values given for case_positive_specimen_interval are equal to 0, and ~95.9% of the 21,284 values given for case_positive_specimen_interval are equal to 0, which would explain the difficulties in seeing the spread using a histogram. This makes them near constant. This fact, as well as some outliers that don't quite make sense with explanation of this feature (one datapoint says that a Covid case was caught over 100 weeks before testing could occure) makes me think that these features will not be useful in analysis. I will drop both of these features."
   ]
  },
  {
   "cell_type": "markdown",
   "metadata": {},
   "source": [
    "Bar Graph of case_month"
   ]
  },
  {
   "cell_type": "code",
   "execution_count": 121,
   "metadata": {},
   "outputs": [
    {
     "data": {
      "image/png": "[encoded data removed]",
      "text/plain": [
       "<Figure size 1000x500 with 1 Axes>"
      ]
     },
     "metadata": {},
     "output_type": "display_data"
    }
   ],
   "source": [
    "df['case_month'].value_counts(dropna = False).plot(kind='bar', figsize=(10,5))\n",
    "plt.show()"
   ]
  },
  {
   "cell_type": "markdown",
   "metadata": {},
   "source": [
    "This would be more useful if it displayed in chronological order instead of ranked by value. Then we would be able to see the rise and fall of new cases over time. It's interesting that there are 2 disctinct periods of lots of new cases thats arent chronologically close to each other. 2020-11 to 2021-01 and 2021-12 to 2022-01 fill the 5 highest slots, suggesting that there are more new cases over winter, especially around the holidays. This might be because people are spending more time inside where the virus can spread easily, and seeing extended family for christmas in Dec. and Thanksgiving in Nov. spreading the virus among them."
   ]
  },
  {
   "cell_type": "markdown",
   "metadata": {},
   "source": [
    "Bar Graph of res_state\n"
   ]
  },
  {
   "cell_type": "code",
   "execution_count": 122,
   "metadata": {},
   "outputs": [
    {
     "data": {
      "image/png": "[encoded data removed]",
      "text/plain": [
       "<Figure size 1200x500 with 1 Axes>"
      ]
     },
     "metadata": {},
     "output_type": "display_data"
    }
   ],
   "source": [
    "df['res_state'].value_counts(dropna = False).plot(kind='bar', figsize=(12,5))\n",
    "plt.show()"
   ]
  },
  {
   "cell_type": "markdown",
   "metadata": {},
   "source": [
    "This data encompasses 48 of the US states (excluding South Dakota and West Virginia) as well as Puerto Rico and the Virgin Islands. The current presentation represents the data well. What is most interesting about this bar chart is that is doesnt match up with the state population as much as I thought it would. The top 5 states in terms of new cases are 4th, 9th, 11th, 3rd and 7th most populous. while the most populous states CA and TX are farther down the list. This is likely due to sctricter lock down procedures, or quicker access to vaccines."
   ]
  },
  {
   "cell_type": "markdown",
   "metadata": {},
   "source": [
    "Bar Graph of county_fips_code\n"
   ]
  },
  {
   "cell_type": "code",
   "execution_count": 123,
   "metadata": {},
   "outputs": [
    {
     "data": {
      "image/png": "[encoded data removed]",
      "text/plain": [
       "<Figure size 1200x500 with 1 Axes>"
      ]
     },
     "metadata": {},
     "output_type": "display_data"
    }
   ],
   "source": [
    "df['county_fips_code'].value_counts(dropna = False).plot(kind='bar', figsize=(12,5))\n",
    "plt.show()"
   ]
  },
  {
   "cell_type": "markdown",
   "metadata": {},
   "source": [
    "This data is basically unusable in this format. There are so many counties, and almost all of them have so few cases compared Miami-Dade county Florida, that even if we could easily make out the individual bars they wouls almost all be too flat to read. I would handle this by binning the data into fewer categories, but that is what the res_state feature is already doing. The only use I can think of for this data would be county comparrisons between states, and since we are looking at a national level I think it is best to drop this feature entirely."
   ]
  },
  {
   "cell_type": "markdown",
   "metadata": {},
   "source": [
    "Bar Graph of age_group"
   ]
  },
  {
   "cell_type": "code",
   "execution_count": 124,
   "metadata": {},
   "outputs": [
    {
     "data": {
      "image/png": "[encoded data removed]",
      "text/plain": [
       "<Figure size 500x300 with 1 Axes>"
      ]
     },
     "metadata": {},
     "output_type": "display_data"
    }
   ],
   "source": [
    "df['age_group'].value_counts(dropna = False).plot(kind='bar', figsize=(5,3))\n",
    "plt.show()"
   ]
  },
  {
   "cell_type": "markdown",
   "metadata": {},
   "source": [
    "check how many have the value Nan, or 'Missing'"
   ]
  },
  {
   "cell_type": "code",
   "execution_count": 125,
   "metadata": {},
   "outputs": [
    {
     "data": {
      "text/plain": [
       "458"
      ]
     },
     "execution_count": 125,
     "metadata": {},
     "output_type": "execute_result"
    }
   ],
   "source": [
    "(df[\"age_group\"] == 'Missing').sum() + df[\"age_group\"].isna().sum()"
   ]
  },
  {
   "cell_type": "markdown",
   "metadata": {},
   "source": [
    "Aprox Age range % of total US population:\n",
    "18-49: ~39%, 65+: ~14%, 50-64: ~29%, 0-17: ~18%"
   ]
  },
  {
   "cell_type": "markdown",
   "metadata": {},
   "source": [
    "It's interesting that they picked these groupings as their age ranges. They are not the same number of years, nor the same percentage of total population. I can only assume they picked these particular age ranges because they have significant correlation with one of the other features that they collected. For this feature I think we can safely cobine nan and missing since there are no special circumstances surrounding any of the Missing answers according to the explanatory XSLX file provided. They are simply missing that data so it is unusable."
   ]
  },
  {
   "cell_type": "markdown",
   "metadata": {},
   "source": [
    "Bar Graph of sex"
   ]
  },
  {
   "cell_type": "code",
   "execution_count": 126,
   "metadata": {},
   "outputs": [
    {
     "data": {
      "image/png": "[encoded data removed]",
      "text/plain": [
       "<Figure size 500x300 with 1 Axes>"
      ]
     },
     "metadata": {},
     "output_type": "display_data"
    }
   ],
   "source": [
    "df['sex'].value_counts(dropna = False).plot(kind='bar', figsize=(5,3))\n",
    "plt.show()"
   ]
  },
  {
   "cell_type": "markdown",
   "metadata": {},
   "source": [
    "check how many have the value Nan, 'Unknown', or 'Missing'"
   ]
  },
  {
   "cell_type": "code",
   "execution_count": 127,
   "metadata": {},
   "outputs": [
    {
     "data": {
      "text/plain": [
       "1363"
      ]
     },
     "execution_count": 127,
     "metadata": {},
     "output_type": "execute_result"
    }
   ],
   "source": [
    "(df[\"sex\"] == 'Missing').sum() + (df[\"sex\"] == 'Unknown').sum() + df[\"sex\"].isna().sum()"
   ]
  },
  {
   "cell_type": "markdown",
   "metadata": {},
   "source": [
    "I think it's safe to combine the 'nan', 'Unknown', and 'Missing' columns since they all signify a lack of data. NA is hidden for protection and Other signifies non binary, so both of those would carry extra info, but these 3 values all provide nothing useful so can be combined."
   ]
  },
  {
   "cell_type": "markdown",
   "metadata": {},
   "source": [
    "Bar Graph of race\n"
   ]
  },
  {
   "cell_type": "code",
   "execution_count": 128,
   "metadata": {},
   "outputs": [
    {
     "data": {
      "image/png": "[encoded data removed]",
      "text/plain": [
       "<Figure size 500x300 with 1 Axes>"
      ]
     },
     "metadata": {},
     "output_type": "display_data"
    }
   ],
   "source": [
    "df['race'].value_counts(dropna = False).plot(kind='bar', figsize=(5,3))\n",
    "plt.show()"
   ]
  },
  {
   "cell_type": "markdown",
   "metadata": {},
   "source": [
    "check how many have the value Nan, 'Unknown', or 'Missing'"
   ]
  },
  {
   "cell_type": "code",
   "execution_count": 129,
   "metadata": {},
   "outputs": [
    {
     "data": {
      "text/plain": [
       "12575"
      ]
     },
     "execution_count": 129,
     "metadata": {},
     "output_type": "execute_result"
    }
   ],
   "source": [
    "(df[\"race\"] == 'Missing').sum() + (df[\"race\"] == 'Unknown').sum() + df[\"race\"].isna().sum()"
   ]
  },
  {
   "cell_type": "markdown",
   "metadata": {},
   "source": [
    "It is safe to combine 'nan', 'Missing', and 'Unknown' since they all point to a lack of information. I am a bit concerned with the ammount of rows (~25.2%) that will have 'Missing' in this category once we combine them."
   ]
  },
  {
   "cell_type": "markdown",
   "metadata": {},
   "source": [
    "Bar Graph of ethnicity\n"
   ]
  },
  {
   "cell_type": "code",
   "execution_count": 130,
   "metadata": {},
   "outputs": [
    {
     "data": {
      "image/png": "[encoded data removed]",
      "text/plain": [
       "<Figure size 500x300 with 1 Axes>"
      ]
     },
     "metadata": {},
     "output_type": "display_data"
    }
   ],
   "source": [
    "df['ethnicity'].value_counts(dropna = False).plot(kind='bar', figsize=(5,3))\n",
    "plt.show()"
   ]
  },
  {
   "cell_type": "markdown",
   "metadata": {},
   "source": [
    "check how many have the value Nan, 'Unknown', or 'Missing'"
   ]
  },
  {
   "cell_type": "code",
   "execution_count": 131,
   "metadata": {},
   "outputs": [
    {
     "data": {
      "text/plain": [
       "16176"
      ]
     },
     "execution_count": 131,
     "metadata": {},
     "output_type": "execute_result"
    }
   ],
   "source": [
    "(df[\"ethnicity\"] == 'Missing').sum() + (df[\"ethnicity\"] == 'Unknown').sum() + df[\"ethnicity\"].isna().sum()"
   ]
  },
  {
   "cell_type": "markdown",
   "metadata": {},
   "source": [
    "Once again I think we can combine the missing, nan, and unknown values, as they all signify no information. The fact that there are about three times as many values that are invalid as are 'hispanic/latino' means that it might be difficult to use this feature."
   ]
  },
  {
   "cell_type": "markdown",
   "metadata": {},
   "source": [
    "I want to see what race hispanic/latino identify as to see if its contributing heavily to the unknown or missing populations in the race feature."
   ]
  },
  {
   "cell_type": "code",
   "execution_count": 132,
   "metadata": {},
   "outputs": [
    {
     "name": "stdout",
     "output_type": "stream",
     "text": [
      "race\n",
      "White                                     3494\n",
      "Unknown                                    388\n",
      "Missing                                    165\n",
      "Black                                       83\n",
      "Multiple/Other                              23\n",
      "American Indian/Alaska Native                9\n",
      "Asian                                        4\n",
      "Native Hawaiian/Other Pacific Islander       0\n",
      "Name: count, dtype: int64\n"
     ]
    }
   ],
   "source": [
    "hispanics = df[df['ethnicity'] == 'Hispanic/Latino']\n",
    "print(hispanics['race'].value_counts())"
   ]
  },
  {
   "cell_type": "markdown",
   "metadata": {},
   "source": [
    "Missing: ~8.9%, Unknown: ~8.3%. For both of these values, less than 9% identify as hispanic so I dont think it's statisitcally significant."
   ]
  },
  {
   "cell_type": "markdown",
   "metadata": {},
   "source": [
    "Bar Graph of process\n"
   ]
  },
  {
   "cell_type": "code",
   "execution_count": 133,
   "metadata": {},
   "outputs": [
    {
     "data": {
      "image/png": "[encoded data removed]",
      "text/plain": [
       "<Figure size 500x300 with 1 Axes>"
      ]
     },
     "metadata": {},
     "output_type": "display_data"
    }
   ],
   "source": [
    "df['process'].value_counts(dropna = False).plot(kind='bar', figsize=(5,3))\n",
    "plt.show()"
   ]
  },
  {
   "cell_type": "markdown",
   "metadata": {},
   "source": [
    "check how many have the values are Nan, 'Unknown', or 'Missing'"
   ]
  },
  {
   "cell_type": "code",
   "execution_count": 134,
   "metadata": {},
   "outputs": [
    {
     "data": {
      "text/plain": [
       "45518"
      ]
     },
     "execution_count": 134,
     "metadata": {},
     "output_type": "execute_result"
    }
   ],
   "source": [
    "(df[\"process\"] == 'Missing').sum() + (df[\"process\"] == 'Unknown').sum() + df[\"process\"].isna().sum()"
   ]
  },
  {
   "cell_type": "markdown",
   "metadata": {},
   "source": [
    "Since the rows that make up 'Missing' and 'Unknown' make up ~91% of all the rows, I think I will drop this feature. The rows with data provived dont provide us with a big enough sample to make any meaningful analysis."
   ]
  },
  {
   "cell_type": "markdown",
   "metadata": {},
   "source": [
    "Bar Graph of exposure_yn\n"
   ]
  },
  {
   "cell_type": "code",
   "execution_count": 135,
   "metadata": {},
   "outputs": [
    {
     "data": {
      "image/png": "[encoded data removed]",
      "text/plain": [
       "<Figure size 500x300 with 1 Axes>"
      ]
     },
     "metadata": {},
     "output_type": "display_data"
    }
   ],
   "source": [
    "df['exposure_yn'].value_counts(dropna = False).plot(kind='bar', figsize=(5,3))\n",
    "plt.show()"
   ]
  },
  {
   "cell_type": "markdown",
   "metadata": {},
   "source": [
    "check how many have the values are 'Unknown', or 'Missing'"
   ]
  },
  {
   "cell_type": "code",
   "execution_count": 136,
   "metadata": {},
   "outputs": [
    {
     "name": "stdout",
     "output_type": "stream",
     "text": [
      "45117\n"
     ]
    }
   ],
   "source": [
    "print((df['exposure_yn'] == 'Missing').sum() + (df['exposure_yn'] == 'Unknown').sum())"
   ]
  },
  {
   "cell_type": "markdown",
   "metadata": {},
   "source": [
    "Once again over 90% of the rows are missing or unknown. I don't think the rows remianing would provide a big enough sample so I will drop this feature."
   ]
  },
  {
   "cell_type": "markdown",
   "metadata": {},
   "source": [
    "Bar Graph of current_status\n"
   ]
  },
  {
   "cell_type": "code",
   "execution_count": 137,
   "metadata": {},
   "outputs": [
    {
     "data": {
      "image/png": "[encoded data removed]",
      "text/plain": [
       "<Figure size 500x300 with 1 Axes>"
      ]
     },
     "metadata": {},
     "output_type": "display_data"
    }
   ],
   "source": [
    "df['current_status'].value_counts(dropna = False).plot(kind='bar', figsize=(5,3))\n",
    "plt.show()"
   ]
  },
  {
   "cell_type": "markdown",
   "metadata": {},
   "source": [
    "Bar Graph of symptom_status\n"
   ]
  },
  {
   "cell_type": "code",
   "execution_count": 138,
   "metadata": {},
   "outputs": [
    {
     "data": {
      "image/png": "[encoded data removed]",
      "text/plain": [
       "<Figure size 500x300 with 1 Axes>"
      ]
     },
     "metadata": {},
     "output_type": "display_data"
    }
   ],
   "source": [
    "df['symptom_status'].value_counts(dropna = False).plot(kind='bar', figsize=(5,3))\n",
    "plt.show()"
   ]
  },
  {
   "cell_type": "markdown",
   "metadata": {},
   "source": [
    "compare missing + unkown values with the 2 valid answers."
   ]
  },
  {
   "cell_type": "code",
   "execution_count": 139,
   "metadata": {},
   "outputs": [
    {
     "name": "stdout",
     "output_type": "stream",
     "text": [
      "Symptomatic cases:\n",
      "22403\n",
      "Missing values:\n",
      "26815\n",
      "Asymptomatic cases:\n",
      "782\n"
     ]
    }
   ],
   "source": [
    "print('Symptomatic cases:')\n",
    "print((df['symptom_status'] == 'Symptomatic').sum())\n",
    "print('Missing values:')\n",
    "print((df['symptom_status'] == 'Missing').sum() + (df['symptom_status'] == 'Unknown').sum())\n",
    "print('Asymptomatic cases:')\n",
    "print((df['symptom_status'] == 'Asymptomatic').sum())"
   ]
  },
  {
   "cell_type": "markdown",
   "metadata": {},
   "source": [
    "We can combine Missing and Unkown in this feature but together they make up over half of the cases, while asymptomatic make up less than 2% of the rows. I don't think we have enough Asymptomatic cases to do any analasys on it. This imbalance makes it near enough to a constant column, that, combined with the missing values, I don't think it will useful for analysis. I will drop this feature."
   ]
  },
  {
   "cell_type": "markdown",
   "metadata": {},
   "source": [
    "Bar Graph of hosp_yn\n"
   ]
  },
  {
   "cell_type": "code",
   "execution_count": 140,
   "metadata": {},
   "outputs": [
    {
     "data": {
      "image/png": "[encoded data removed]",
      "text/plain": [
       "<Figure size 500x300 with 1 Axes>"
      ]
     },
     "metadata": {},
     "output_type": "display_data"
    }
   ],
   "source": [
    "df['hosp_yn'].value_counts(dropna = False).plot(kind='bar', figsize=(5,3))\n",
    "plt.show()"
   ]
  },
  {
   "cell_type": "markdown",
   "metadata": {},
   "source": [
    "check how many have the value Nan, 'Unknown', or 'Missing'"
   ]
  },
  {
   "cell_type": "code",
   "execution_count": 141,
   "metadata": {},
   "outputs": [
    {
     "data": {
      "text/plain": [
       "17360"
      ]
     },
     "execution_count": 141,
     "metadata": {},
     "output_type": "execute_result"
    }
   ],
   "source": [
    "(df[\"hosp_yn\"] == 'Missing').sum() + (df[\"hosp_yn\"] == 'Unknown').sum() + df[\"hosp_yn\"].isna().sum()"
   ]
  },
  {
   "cell_type": "markdown",
   "metadata": {},
   "source": [
    "How many hospitalised patients died?"
   ]
  },
  {
   "cell_type": "code",
   "execution_count": 142,
   "metadata": {},
   "outputs": [
    {
     "name": "stdout",
     "output_type": "stream",
     "text": [
      "death_yn\n",
      "Yes    5899\n",
      "No     1341\n",
      "Name: count, dtype: int64\n"
     ]
    }
   ],
   "source": [
    "icu = df[df['hosp_yn'] == 'Yes']\n",
    "print(icu['death_yn'].value_counts())"
   ]
  },
  {
   "cell_type": "markdown",
   "metadata": {},
   "source": [
    "~81.5% of hospitalised patients died."
   ]
  },
  {
   "cell_type": "markdown",
   "metadata": {},
   "source": [
    "There are enough examples of yes and no to use this feature even with all of the missing values, so I will keep this feature."
   ]
  },
  {
   "cell_type": "markdown",
   "metadata": {},
   "source": [
    "Bar Graph of icu_yn\n"
   ]
  },
  {
   "cell_type": "code",
   "execution_count": 143,
   "metadata": {},
   "outputs": [
    {
     "data": {
      "image/png": "[encoded data removed]",
      "text/plain": [
       "<Figure size 500x300 with 1 Axes>"
      ]
     },
     "metadata": {},
     "output_type": "display_data"
    }
   ],
   "source": [
    "df['icu_yn'].value_counts(dropna = False).plot(kind='bar', figsize=(5,3))\n",
    "plt.show()"
   ]
  },
  {
   "cell_type": "markdown",
   "metadata": {},
   "source": [
    "check how many have the value Nan, 'Unknown', or 'Missing'"
   ]
  },
  {
   "cell_type": "code",
   "execution_count": 144,
   "metadata": {},
   "outputs": [
    {
     "data": {
      "text/plain": [
       "45967"
      ]
     },
     "execution_count": 144,
     "metadata": {},
     "output_type": "execute_result"
    }
   ],
   "source": [
    "(df[\"icu_yn\"] == 'Missing').sum() + (df[\"icu_yn\"] == 'Unknown').sum() + df[\"icu_yn\"].isna().sum()"
   ]
  },
  {
   "cell_type": "markdown",
   "metadata": {},
   "source": [
    "check how many of the patoents who went into the ICU survived"
   ]
  },
  {
   "cell_type": "code",
   "execution_count": 145,
   "metadata": {},
   "outputs": [
    {
     "name": "stdout",
     "output_type": "stream",
     "text": [
      "death_yn\n",
      "Yes    1011\n",
      "No       64\n",
      "Name: count, dtype: int64\n"
     ]
    }
   ],
   "source": [
    "icu = df[df['icu_yn'] == 'Yes']\n",
    "print(icu['death_yn'].value_counts())"
   ]
  },
  {
   "cell_type": "markdown",
   "metadata": {},
   "source": [
    "Once again over 90% of the values are missing. Of the cases that did go into the ICU only 64 (~6%) survived. I will keep this feature despite the missing values, because it is strongly correlated with death, and I think it would be a promising feature to plot against death_yn."
   ]
  },
  {
   "cell_type": "markdown",
   "metadata": {},
   "source": [
    "Bar Graph of death_yn"
   ]
  },
  {
   "cell_type": "code",
   "execution_count": 146,
   "metadata": {},
   "outputs": [
    {
     "data": {
      "image/png": "[encoded data removed]",
      "text/plain": [
       "<Figure size 500x300 with 1 Axes>"
      ]
     },
     "metadata": {},
     "output_type": "display_data"
    }
   ],
   "source": [
    "df['death_yn'].value_counts(dropna = False).plot(kind='bar', figsize=(5,3))\n",
    "plt.show()"
   ]
  },
  {
   "cell_type": "markdown",
   "metadata": {},
   "source": [
    "Bar Graph of underlying_conditions_yn"
   ]
  },
  {
   "cell_type": "code",
   "execution_count": 147,
   "metadata": {},
   "outputs": [
    {
     "data": {
      "image/png": "[encoded data removed]",
      "text/plain": [
       "<Figure size 500x300 with 1 Axes>"
      ]
     },
     "metadata": {},
     "output_type": "display_data"
    }
   ],
   "source": [
    "df['underlying_conditions_yn'].value_counts(dropna = False).plot(kind='bar', figsize=(5,3))\n",
    "plt.show()"
   ]
  },
  {
   "cell_type": "markdown",
   "metadata": {},
   "source": [
    "count missing values"
   ]
  },
  {
   "cell_type": "code",
   "execution_count": 148,
   "metadata": {},
   "outputs": [
    {
     "data": {
      "text/plain": [
       "45793"
      ]
     },
     "execution_count": 148,
     "metadata": {},
     "output_type": "execute_result"
    }
   ],
   "source": [
    "(df['underlying_conditions_yn'].isna()).sum()"
   ]
  },
  {
   "cell_type": "markdown",
   "metadata": {},
   "source": [
    "~91.5% of rows are not valid answers."
   ]
  },
  {
   "cell_type": "markdown",
   "metadata": {},
   "source": [
    "count of valid answers"
   ]
  },
  {
   "cell_type": "code",
   "execution_count": 149,
   "metadata": {},
   "outputs": [
    {
     "name": "stdout",
     "output_type": "stream",
     "text": [
      "Yes:\n",
      "4153\n",
      "No:\n",
      "54\n"
     ]
    }
   ],
   "source": [
    "print(\"Yes:\")\n",
    "print((df['underlying_conditions_yn'] == 'Yes').sum())\n",
    "print(\"No:\")\n",
    "print((df['underlying_conditions_yn'] == 'No').sum())"
   ]
  },
  {
   "cell_type": "markdown",
   "metadata": {},
   "source": [
    "Yes: ~8.3%, No: ~0.11% of all answers.\n",
    "\n",
    "Yes: ~98.7%, No: ~1.3% of valid answers.\n",
    "\n",
    "The proportion of 'No' to 'Yes' makes this almost a constant column once you remove the invalid answers."
   ]
  },
  {
   "cell_type": "markdown",
   "metadata": {},
   "source": [
    "check underlying conditions against hospitalization and death to see if its strongly correlated"
   ]
  },
  {
   "cell_type": "code",
   "execution_count": 150,
   "metadata": {},
   "outputs": [
    {
     "name": "stdout",
     "output_type": "stream",
     "text": [
      "hosp_yn\n",
      "No         2206\n",
      "Yes        1474\n",
      "Missing     291\n",
      "Unknown     182\n",
      "Name: count, dtype: int64\n",
      "death_yn\n",
      "No     2525\n",
      "Yes    1628\n",
      "Name: count, dtype: int64\n"
     ]
    }
   ],
   "source": [
    "conditions = df[df['underlying_conditions_yn'] == 'Yes']\n",
    "print(conditions['hosp_yn'].value_counts())\n",
    "print(conditions['death_yn'].value_counts())"
   ]
  },
  {
   "cell_type": "markdown",
   "metadata": {},
   "source": [
    "The results of my correlation test with hosp_yn and death_yn arent very conclusive. I will keep this feaure because I think it could be interesteing to plot against death."
   ]
  },
  {
   "cell_type": "markdown",
   "metadata": {},
   "source": [
    "# DATA QUALITY PLAN"
   ]
  },
  {
   "cell_type": "markdown",
   "metadata": {},
   "source": [
    "My reasoning for each of these is included in my initial findings under each set of graphs."
   ]
  },
  {
   "cell_type": "markdown",
   "metadata": {},
   "source": [
    "Data Quality Plan Summary included in data quality plan pdf"
   ]
  },
  {
   "cell_type": "markdown",
   "metadata": {},
   "source": [
    "rows where 'hosp_yn' are 'No' but 'icu_yn' are 'Yes' are logically inconsistent. I will change 'hosp_yn' to 'Yes'"
   ]
  },
  {
   "cell_type": "code",
   "execution_count": 151,
   "metadata": {},
   "outputs": [],
   "source": [
    "df.loc[((df['icu_yn'] == 'Yes') & (df['hosp_yn'] == 'No')), 'hosp_yn'] = 'Yes'"
   ]
  },
  {
   "cell_type": "markdown",
   "metadata": {},
   "source": [
    "I'm dropping the following features: case_positive_specimen_interval, case_onset_interval, county_fips_code, Process, exposure_yn, symptom_status, icu_yn, underlying_conditions_yn, hosp_yn"
   ]
  },
  {
   "cell_type": "code",
   "execution_count": 152,
   "metadata": {},
   "outputs": [],
   "source": [
    "columns_to_drop = ['case_positive_specimen_interval', 'case_onset_interval', 'case_onset_interval', 'county_fips_code', 'process', 'exposure_yn', 'symptom_status']\n",
    "# Drop the specified columns\n",
    "df = df.drop(columns=columns_to_drop, axis=1)"
   ]
  },
  {
   "cell_type": "markdown",
   "metadata": {},
   "source": [
    "combine the missing values of all remaining rows into one value, None"
   ]
  },
  {
   "cell_type": "code",
   "execution_count": 153,
   "metadata": {},
   "outputs": [
    {
     "name": "stderr",
     "output_type": "stream",
     "text": [
      "/var/folders/bv/rb38h6217gx4kkts7z_mq6bh0000gt/T/ipykernel_31135/1230809850.py:2: FutureWarning: The behavior of Series.replace (and DataFrame.replace) with CategoricalDtype is deprecated. In a future version, replace will only be used for cases that preserve the categories. To change the categories, use ser.cat.rename_categories instead.\n",
      "  df.replace('Missing', np.nan, inplace=True)\n",
      "/var/folders/bv/rb38h6217gx4kkts7z_mq6bh0000gt/T/ipykernel_31135/1230809850.py:3: FutureWarning: The behavior of Series.replace (and DataFrame.replace) with CategoricalDtype is deprecated. In a future version, replace will only be used for cases that preserve the categories. To change the categories, use ser.cat.rename_categories instead.\n",
      "  df.replace('Unknown', np.nan, inplace=True)\n"
     ]
    }
   ],
   "source": [
    "for column in df.columns:\n",
    "    df.replace('Missing', np.nan, inplace=True)\n",
    "    df.replace('Unknown', np.nan, inplace=True)"
   ]
  },
  {
   "cell_type": "markdown",
   "metadata": {},
   "source": [
    "Are there any rows with more than half of the remaining data missing?"
   ]
  },
  {
   "cell_type": "code",
   "execution_count": 154,
   "metadata": {},
   "outputs": [
    {
     "data": {
      "text/html": [
       "<div>\n",
       "<style scoped>\n",
       "    .dataframe tbody tr th:only-of-type {\n",
       "        vertical-align: middle;\n",
       "    }\n",
       "\n",
       "    .dataframe tbody tr th {\n",
       "        vertical-align: top;\n",
       "    }\n",
       "\n",
       "    .dataframe thead th {\n",
       "        text-align: right;\n",
       "    }\n",
       "</style>\n",
       "<table border=\"1\" class=\"dataframe\">\n",
       "  <thead>\n",
       "    <tr style=\"text-align: right;\">\n",
       "      <th></th>\n",
       "      <th>case_month</th>\n",
       "      <th>res_state</th>\n",
       "      <th>age_group</th>\n",
       "      <th>sex</th>\n",
       "      <th>race</th>\n",
       "      <th>ethnicity</th>\n",
       "      <th>current_status</th>\n",
       "      <th>hosp_yn</th>\n",
       "      <th>icu_yn</th>\n",
       "      <th>death_yn</th>\n",
       "      <th>underlying_conditions_yn</th>\n",
       "    </tr>\n",
       "  </thead>\n",
       "  <tbody>\n",
       "    <tr>\n",
       "      <th>15737</th>\n",
       "      <td>2020-01</td>\n",
       "      <td>NaN</td>\n",
       "      <td>NaN</td>\n",
       "      <td>NaN</td>\n",
       "      <td>NaN</td>\n",
       "      <td>NaN</td>\n",
       "      <td>Laboratory-confirmed case</td>\n",
       "      <td>NaN</td>\n",
       "      <td>NaN</td>\n",
       "      <td>No</td>\n",
       "      <td>NaN</td>\n",
       "    </tr>\n",
       "  </tbody>\n",
       "</table>\n",
       "</div>"
      ],
      "text/plain": [
       "      case_month res_state age_group  sex race ethnicity  \\\n",
       "15737    2020-01       NaN       NaN  NaN  NaN       NaN   \n",
       "\n",
       "                  current_status hosp_yn icu_yn death_yn  \\\n",
       "15737  Laboratory-confirmed case     NaN    NaN       No   \n",
       "\n",
       "      underlying_conditions_yn  \n",
       "15737                      NaN  "
      ]
     },
     "execution_count": 154,
     "metadata": {},
     "output_type": "execute_result"
    }
   ],
   "source": [
    "df[df[['res_state']].isna().all(axis=1)]"
   ]
  },
  {
   "cell_type": "markdown",
   "metadata": {},
   "source": [
    "row 15737 would also be caught be the code below so I don't ave to add it manually to the rows i'm going to drop."
   ]
  },
  {
   "cell_type": "code",
   "execution_count": 155,
   "metadata": {},
   "outputs": [
    {
     "name": "stdout",
     "output_type": "stream",
     "text": [
      "      case_month res_state age_group  sex race ethnicity  \\\n",
      "546      2020-01        GA       NaN  NaN  NaN       NaN   \n",
      "547      2020-01        GA       NaN  NaN  NaN       NaN   \n",
      "992      2021-12        CT       NaN  NaN  NaN       NaN   \n",
      "1094     2022-04        GA       NaN  NaN  NaN       NaN   \n",
      "1493     2020-01        GA       NaN  NaN  NaN       NaN   \n",
      "...          ...       ...       ...  ...  ...       ...   \n",
      "48866    2022-03        NY       NaN  NaN  NaN       NaN   \n",
      "49336    2020-12        NH       NaN  NaN  NaN       NaN   \n",
      "49396    2021-04        AZ       NaN  NaN  NaN       NaN   \n",
      "49510    2021-06        NC       NaN  NaN  NaN       NaN   \n",
      "49647    2020-06        IN       NaN  NaN  NaN       NaN   \n",
      "\n",
      "                  current_status hosp_yn icu_yn death_yn  \\\n",
      "546    Laboratory-confirmed case     NaN    NaN      Yes   \n",
      "547    Laboratory-confirmed case     NaN    NaN      Yes   \n",
      "992    Laboratory-confirmed case     NaN    NaN      Yes   \n",
      "1094               Probable Case     NaN    NaN      Yes   \n",
      "1493   Laboratory-confirmed case     NaN    NaN      Yes   \n",
      "...                          ...     ...    ...      ...   \n",
      "48866  Laboratory-confirmed case     NaN    NaN       No   \n",
      "49336              Probable Case     NaN    NaN       No   \n",
      "49396  Laboratory-confirmed case     NaN    NaN       No   \n",
      "49510  Laboratory-confirmed case     NaN    NaN       No   \n",
      "49647  Laboratory-confirmed case     NaN    NaN       No   \n",
      "\n",
      "      underlying_conditions_yn  \n",
      "546                        NaN  \n",
      "547                        NaN  \n",
      "992                        NaN  \n",
      "1094                       NaN  \n",
      "1493                       NaN  \n",
      "...                        ...  \n",
      "48866                      NaN  \n",
      "49336                      NaN  \n",
      "49396                      NaN  \n",
      "49510                      NaN  \n",
      "49647                      NaN  \n",
      "\n",
      "[132 rows x 11 columns]\n"
     ]
    }
   ],
   "source": [
    "failed_rows = df[df[['age_group', 'sex', 'race', 'ethnicity', 'icu_yn', 'hosp_yn', 'underlying_conditions_yn']].isna().all(axis=1)]\n",
    "print(failed_rows)"
   ]
  },
  {
   "cell_type": "markdown",
   "metadata": {},
   "source": [
    "These rows are missing too much of the remainaing features to be useful. I will drop them."
   ]
  },
  {
   "cell_type": "code",
   "execution_count": 156,
   "metadata": {},
   "outputs": [],
   "source": [
    "df = df.drop(failed_rows.index)"
   ]
  },
  {
   "cell_type": "code",
   "execution_count": 157,
   "metadata": {},
   "outputs": [],
   "source": [
    "df.to_csv(\"covid_data_quality_addressed.csv\", index=False)"
   ]
  },
  {
   "cell_type": "markdown",
   "metadata": {},
   "source": [
    "# Exploring relationships between feature pairs"
   ]
  },
  {
   "cell_type": "markdown",
   "metadata": {},
   "source": [
    "continue with new CSV"
   ]
  },
  {
   "cell_type": "code",
   "execution_count": 158,
   "metadata": {},
   "outputs": [],
   "source": [
    "df = pd.read_csv('covid_data_quality_addressed.csv', keep_default_na=True, delimiter=',', skipinitialspace=True)"
   ]
  },
  {
   "cell_type": "code",
   "execution_count": 159,
   "metadata": {},
   "outputs": [
    {
     "data": {
      "text/html": [
       "<div>\n",
       "<style scoped>\n",
       "    .dataframe tbody tr th:only-of-type {\n",
       "        vertical-align: middle;\n",
       "    }\n",
       "\n",
       "    .dataframe tbody tr th {\n",
       "        vertical-align: top;\n",
       "    }\n",
       "\n",
       "    .dataframe thead th {\n",
       "        text-align: right;\n",
       "    }\n",
       "</style>\n",
       "<table border=\"1\" class=\"dataframe\">\n",
       "  <thead>\n",
       "    <tr style=\"text-align: right;\">\n",
       "      <th></th>\n",
       "      <th>count</th>\n",
       "      <th>unique</th>\n",
       "      <th>top</th>\n",
       "      <th>freq</th>\n",
       "    </tr>\n",
       "  </thead>\n",
       "  <tbody>\n",
       "    <tr>\n",
       "      <th>case_month</th>\n",
       "      <td>49868</td>\n",
       "      <td>40</td>\n",
       "      <td>2022-01</td>\n",
       "      <td>6310</td>\n",
       "    </tr>\n",
       "    <tr>\n",
       "      <th>res_state</th>\n",
       "      <td>49868</td>\n",
       "      <td>50</td>\n",
       "      <td>NY</td>\n",
       "      <td>5626</td>\n",
       "    </tr>\n",
       "    <tr>\n",
       "      <th>age_group</th>\n",
       "      <td>49542</td>\n",
       "      <td>4</td>\n",
       "      <td>18 to 49 years</td>\n",
       "      <td>20040</td>\n",
       "    </tr>\n",
       "    <tr>\n",
       "      <th>sex</th>\n",
       "      <td>48637</td>\n",
       "      <td>2</td>\n",
       "      <td>Female</td>\n",
       "      <td>25440</td>\n",
       "    </tr>\n",
       "    <tr>\n",
       "      <th>race</th>\n",
       "      <td>37425</td>\n",
       "      <td>6</td>\n",
       "      <td>White</td>\n",
       "      <td>30382</td>\n",
       "    </tr>\n",
       "    <tr>\n",
       "      <th>ethnicity</th>\n",
       "      <td>33824</td>\n",
       "      <td>2</td>\n",
       "      <td>Non-Hispanic/Latino</td>\n",
       "      <td>29658</td>\n",
       "    </tr>\n",
       "    <tr>\n",
       "      <th>current_status</th>\n",
       "      <td>49868</td>\n",
       "      <td>2</td>\n",
       "      <td>Laboratory-confirmed case</td>\n",
       "      <td>42075</td>\n",
       "    </tr>\n",
       "    <tr>\n",
       "      <th>hosp_yn</th>\n",
       "      <td>32640</td>\n",
       "      <td>2</td>\n",
       "      <td>No</td>\n",
       "      <td>25394</td>\n",
       "    </tr>\n",
       "    <tr>\n",
       "      <th>icu_yn</th>\n",
       "      <td>4033</td>\n",
       "      <td>2</td>\n",
       "      <td>No</td>\n",
       "      <td>2958</td>\n",
       "    </tr>\n",
       "    <tr>\n",
       "      <th>death_yn</th>\n",
       "      <td>49868</td>\n",
       "      <td>2</td>\n",
       "      <td>No</td>\n",
       "      <td>39884</td>\n",
       "    </tr>\n",
       "    <tr>\n",
       "      <th>underlying_conditions_yn</th>\n",
       "      <td>4207</td>\n",
       "      <td>2</td>\n",
       "      <td>Yes</td>\n",
       "      <td>4153</td>\n",
       "    </tr>\n",
       "  </tbody>\n",
       "</table>\n",
       "</div>"
      ],
      "text/plain": [
       "                          count unique                        top   freq\n",
       "case_month                49868     40                    2022-01   6310\n",
       "res_state                 49868     50                         NY   5626\n",
       "age_group                 49542      4             18 to 49 years  20040\n",
       "sex                       48637      2                     Female  25440\n",
       "race                      37425      6                      White  30382\n",
       "ethnicity                 33824      2        Non-Hispanic/Latino  29658\n",
       "current_status            49868      2  Laboratory-confirmed case  42075\n",
       "hosp_yn                   32640      2                         No  25394\n",
       "icu_yn                     4033      2                         No   2958\n",
       "death_yn                  49868      2                         No  39884\n",
       "underlying_conditions_yn   4207      2                        Yes   4153"
      ]
     },
     "execution_count": 159,
     "metadata": {},
     "output_type": "execute_result"
    }
   ],
   "source": [
    "df.describe().T"
   ]
  },
  {
   "cell_type": "markdown",
   "metadata": {},
   "source": [
    "The features I will be especially exploring the relationships with death_yn are hosp_yn, icu_yn, underlying_conditions_yn, as well as case_month. I beleive that the frist three will have strong correlation with whether or not the patient died, as for the last one I want to see if the dissease became more or less deadly as time went on and hospitals got better at dealing with it, but also overcrowded."
   ]
  },
  {
   "cell_type": "markdown",
   "metadata": {},
   "source": [
    "All features are categorical so all comparissons will be categorical to categorical."
   ]
  },
  {
   "cell_type": "markdown",
   "metadata": {},
   "source": [
    "### ICU admittance vs Death"
   ]
  },
  {
   "cell_type": "code",
   "execution_count": 160,
   "metadata": {},
   "outputs": [
    {
     "name": "stderr",
     "output_type": "stream",
     "text": [
      "/var/folders/bv/rb38h6217gx4kkts7z_mq6bh0000gt/T/ipykernel_31135/788068320.py:2: FutureWarning: Series.ravel is deprecated. The underlying array is already 1D, so ravel is not necessary.  Use `to_numpy()` for conversion to a numpy array instead.\n",
      "  death = pd.unique(df[\"icu_yn\"].ravel())\n",
      "/var/folders/bv/rb38h6217gx4kkts7z_mq6bh0000gt/T/ipykernel_31135/788068320.py:15: RuntimeWarning: divide by zero encountered in scalar divide\n",
      "  count_percentage = (1 / count) * 100\n",
      "/var/folders/bv/rb38h6217gx4kkts7z_mq6bh0000gt/T/ipykernel_31135/788068320.py:22: FutureWarning: Setting an item of incompatible dtype is deprecated and will raise an error in a future version of pandas. Value '0.03380662609871535' has dtype incompatible with int64, please explicitly cast to a compatible dtype first.\n",
      "  df.loc[ind, 'percent'] = count_percentage\n"
     ]
    },
    {
     "name": "stdout",
     "output_type": "stream",
     "text": [
      "icu_yn\n",
      "Index \t Count\n",
      "nan \t 0\n",
      "No \t 2958\n",
      "Yes \t 1075\n"
     ]
    },
    {
     "data": {
      "text/plain": [
       "(0.0, 100.0)"
      ]
     },
     "execution_count": 160,
     "metadata": {},
     "output_type": "execute_result"
    },
    {
     "data": {
      "image/png": "[encoded data removed]",
      "text/plain": [
       "<Figure size 1000x500 with 1 Axes>"
      ]
     },
     "metadata": {},
     "output_type": "display_data"
    }
   ],
   "source": [
    "#Using code from the module lab\n",
    "death = pd.unique(df[\"icu_yn\"].ravel())\n",
    "\n",
    "# add new column and set values to zero\n",
    "df['percent'] = 0\n",
    "\n",
    "#print header\n",
    "print(\"icu_yn\")\n",
    "print(\"Index \\t Count\")\n",
    "\n",
    "# for each delinquency category\n",
    "for i in death:\n",
    "    \n",
    "    count = df[df[\"icu_yn\"] == i].count()['death_yn']\n",
    "    count_percentage = (1 / count) * 100\n",
    "        \n",
    "    # print out index vs count\n",
    "    print(i, \"\\t\", count)\n",
    "    \n",
    "    index_list = df[df['icu_yn'] == i].index.tolist()\n",
    "    for ind in index_list:\n",
    "        df.loc[ind, 'percent'] = count_percentage\n",
    "        \n",
    "group = df[['percent','icu_yn','death_yn']].groupby(['icu_yn','death_yn']).sum()\n",
    "\n",
    "my_plot = group.unstack().plot(kind='bar', stacked=True, title=\"ICU vs death\", figsize=(10,5), grid=True)\n",
    "\n",
    "my_plot.legend([\"Lived\", \"Died\"])\n",
    "\n",
    "my_plot.set_xlabel(\"ICU Status\")\n",
    "my_plot.set_ylabel(\"% Dead\")\n",
    "my_plot.set_ylim([0,100])"
   ]
  },
  {
   "cell_type": "markdown",
   "metadata": {},
   "source": [
    "This makes it very clear that ICU entry and fatalilties are very closely related. There was still a ~20% chance of death if a patient was not admitted to the ICU, those that were admitted had more than a 90% fatality rate. This is expected as the ICU is only for patients in critical condition, and survival in that case is unlikely. "
   ]
  },
  {
   "cell_type": "markdown",
   "metadata": {},
   "source": [
    "### Hospital admittance vs Death"
   ]
  },
  {
   "cell_type": "code",
   "execution_count": 161,
   "metadata": {},
   "outputs": [
    {
     "name": "stderr",
     "output_type": "stream",
     "text": [
      "/var/folders/bv/rb38h6217gx4kkts7z_mq6bh0000gt/T/ipykernel_31135/1825343915.py:2: FutureWarning: Series.ravel is deprecated. The underlying array is already 1D, so ravel is not necessary.  Use `to_numpy()` for conversion to a numpy array instead.\n",
      "  death = pd.unique(df[\"hosp_yn\"].ravel())\n",
      "/var/folders/bv/rb38h6217gx4kkts7z_mq6bh0000gt/T/ipykernel_31135/1825343915.py:22: FutureWarning: Setting an item of incompatible dtype is deprecated and will raise an error in a future version of pandas. Value '0.003937938095613137' has dtype incompatible with int64, please explicitly cast to a compatible dtype first.\n",
      "  df.loc[ind, 'percent'] = count_percentage\n"
     ]
    },
    {
     "name": "stdout",
     "output_type": "stream",
     "text": [
      "hosp_yn\n",
      "Index \t Count\n",
      "No \t 25394\n"
     ]
    },
    {
     "name": "stdout",
     "output_type": "stream",
     "text": [
      "Yes \t 7246\n",
      "nan \t 0\n"
     ]
    },
    {
     "name": "stderr",
     "output_type": "stream",
     "text": [
      "/var/folders/bv/rb38h6217gx4kkts7z_mq6bh0000gt/T/ipykernel_31135/1825343915.py:15: RuntimeWarning: divide by zero encountered in scalar divide\n",
      "  count_percentage = (1 / count) * 100\n"
     ]
    },
    {
     "data": {
      "text/plain": [
       "(0.0, 100.0)"
      ]
     },
     "execution_count": 161,
     "metadata": {},
     "output_type": "execute_result"
    },
    {
     "data": {
      "image/png": "[encoded data removed]",
      "text/plain": [
       "<Figure size 1000x500 with 1 Axes>"
      ]
     },
     "metadata": {},
     "output_type": "display_data"
    }
   ],
   "source": [
    "#Using code from the module lab\n",
    "death = pd.unique(df[\"hosp_yn\"].ravel())\n",
    "\n",
    "# add new column and set values to zero\n",
    "df['percent'] = 0\n",
    "\n",
    "#print header\n",
    "print(\"hosp_yn\")\n",
    "print(\"Index \\t Count\")\n",
    "\n",
    "# for each delinquency category\n",
    "for i in death:\n",
    "    \n",
    "    count = df[df[\"hosp_yn\"] == i].count()['death_yn']\n",
    "    count_percentage = (1 / count) * 100\n",
    "        \n",
    "    # print out index vs count\n",
    "    print(i, \"\\t\", count)\n",
    "    \n",
    "    index_list = df[df['hosp_yn'] == i].index.tolist()\n",
    "    for ind in index_list:\n",
    "        df.loc[ind, 'percent'] = count_percentage\n",
    "        \n",
    "group = df[['percent','hosp_yn','death_yn']].groupby(['hosp_yn','death_yn']).sum()\n",
    "\n",
    "my_plot = group.unstack().plot(kind='bar', stacked=True, title=\"hospital vs death\", figsize=(10,5), grid=True)\n",
    "\n",
    "my_plot.legend([\"Lived\", \"Died\"])\n",
    "\n",
    "my_plot.set_xlabel(\"Hospitalization Status\")\n",
    "my_plot.set_ylabel(\"% Dead\")\n",
    "my_plot.set_ylim([0,100])"
   ]
  },
  {
   "cell_type": "markdown",
   "metadata": {},
   "source": [
    "This graph shows that it is unlikely to die from the dissease without being admitted to the hospital. However, those patients that were admitted were very likely to die, with only a little less than 20% surviving. This metric does include those patients that ended up being sent to the ICU so it is not fully seperate from the graph above, but just being admitted to the hopsital is only about half as likely to result in a fatality. This makes sense as patients requireing hospitalization would be in bad shape but not neccicarily as bad as those sent to the ICU."
   ]
  },
  {
   "cell_type": "markdown",
   "metadata": {},
   "source": [
    "### Underlying conditions vs Death"
   ]
  },
  {
   "cell_type": "code",
   "execution_count": 162,
   "metadata": {},
   "outputs": [
    {
     "name": "stderr",
     "output_type": "stream",
     "text": [
      "/var/folders/bv/rb38h6217gx4kkts7z_mq6bh0000gt/T/ipykernel_31135/2455833724.py:2: FutureWarning: Series.ravel is deprecated. The underlying array is already 1D, so ravel is not necessary.  Use `to_numpy()` for conversion to a numpy array instead.\n",
      "  death = pd.unique(df[\"underlying_conditions_yn\"].ravel())\n",
      "/var/folders/bv/rb38h6217gx4kkts7z_mq6bh0000gt/T/ipykernel_31135/2455833724.py:15: RuntimeWarning: divide by zero encountered in scalar divide\n",
      "  count_percentage = (1 / count) * 100\n",
      "/var/folders/bv/rb38h6217gx4kkts7z_mq6bh0000gt/T/ipykernel_31135/2455833724.py:22: FutureWarning: Setting an item of incompatible dtype is deprecated and will raise an error in a future version of pandas. Value '0.024078979051288224' has dtype incompatible with int64, please explicitly cast to a compatible dtype first.\n",
      "  df.loc[ind, 'percent'] = count_percentage\n"
     ]
    },
    {
     "name": "stdout",
     "output_type": "stream",
     "text": [
      "underlying_conditions_yn\n",
      "Index \t Count\n",
      "nan \t 0\n",
      "Yes \t 4153\n",
      "No \t 54\n"
     ]
    },
    {
     "data": {
      "text/plain": [
       "(0.0, 100.0)"
      ]
     },
     "execution_count": 162,
     "metadata": {},
     "output_type": "execute_result"
    },
    {
     "data": {
      "image/png": "[encoded data removed]",
      "text/plain": [
       "<Figure size 1000x500 with 1 Axes>"
      ]
     },
     "metadata": {},
     "output_type": "display_data"
    }
   ],
   "source": [
    "#Using code from the module lab\n",
    "death = pd.unique(df[\"underlying_conditions_yn\"].ravel())\n",
    "\n",
    "# add new column and set values to zero\n",
    "df['percent'] = 0\n",
    "\n",
    "#print header\n",
    "print(\"underlying_conditions_yn\")\n",
    "print(\"Index \\t Count\")\n",
    "\n",
    "# for each delinquency category\n",
    "for i in death:\n",
    "    \n",
    "    count = df[df[\"underlying_conditions_yn\"] == i].count()['death_yn']\n",
    "    count_percentage = (1 / count) * 100\n",
    "        \n",
    "    # print out index vs count\n",
    "    print(i, \"\\t\", count)\n",
    "    \n",
    "    index_list = df[df['underlying_conditions_yn'] == i].index.tolist()\n",
    "    for ind in index_list:\n",
    "        df.loc[ind, 'percent'] = count_percentage\n",
    "        \n",
    "group = df[['percent','underlying_conditions_yn','death_yn']].groupby(['underlying_conditions_yn','death_yn']).sum()\n",
    "\n",
    "my_plot = group.unstack().plot(kind='bar', stacked=True, title=\"underlying condition vs death\", figsize=(10,5), grid=True)\n",
    "\n",
    "my_plot.legend([\"Lived\", \"Died\"])\n",
    "\n",
    "my_plot.set_xlabel(\"underlying condition Status\")\n",
    "my_plot.set_ylabel(\"% Dead\")\n",
    "my_plot.set_ylim([0,100])"
   ]
  },
  {
   "cell_type": "markdown",
   "metadata": {},
   "source": [
    "This graph shows that you are much more at risk to a fatal infection if you have an underlying condition. If you have one covid is ~8x more fatal. This makes sense with what we know about fatalty rates and the warnings the CDC put out for those with underlying conditions. "
   ]
  },
  {
   "cell_type": "markdown",
   "metadata": {},
   "source": [
    "### Case Month vs Death"
   ]
  },
  {
   "cell_type": "code",
   "execution_count": 163,
   "metadata": {},
   "outputs": [
    {
     "name": "stderr",
     "output_type": "stream",
     "text": [
      "/var/folders/bv/rb38h6217gx4kkts7z_mq6bh0000gt/T/ipykernel_31135/2020881070.py:2: FutureWarning: Series.ravel is deprecated. The underlying array is already 1D, so ravel is not necessary.  Use `to_numpy()` for conversion to a numpy array instead.\n",
      "  death = pd.unique(df[\"case_month\"].ravel())\n",
      "/var/folders/bv/rb38h6217gx4kkts7z_mq6bh0000gt/T/ipykernel_31135/2020881070.py:22: FutureWarning: Setting an item of incompatible dtype is deprecated and will raise an error in a future version of pandas. Value '0.02935995302407516' has dtype incompatible with int64, please explicitly cast to a compatible dtype first.\n",
      "  df.loc[ind, 'percent'] = count_percentage\n"
     ]
    },
    {
     "name": "stdout",
     "output_type": "stream",
     "text": [
      "case_month\n",
      "Index \t Count\n",
      "2021-12 \t 3406\n",
      "2020-04 \t 1621\n",
      "2021-11 \t 1509\n",
      "2022-02 \t 1011\n",
      "2020-11 \t 2962\n",
      "2021-01 \t 3282\n",
      "2022-01 \t 6310\n",
      "2020-08 \t 847\n",
      "2020-03 \t 616\n",
      "2020-12 \t 3881\n",
      "2021-10 \t 1229\n",
      "2020-05 \t 728\n",
      "2023-04 \t 128\n",
      "2021-08 \t 2085\n",
      "2020-07 \t 1175\n",
      "2021-02 \t 1254\n",
      "2021-09 \t 1918\n",
      "2021-07 \t 881\n",
      "2020-10 \t 1347\n",
      "2022-07 \t 1187\n",
      "2020-06 \t 760\n",
      "2021-04 \t 1008\n",
      "2021-05 \t 476\n",
      "2022-10 \t 443\n",
      "2023-02 \t 370\n",
      "2021-03 \t 1079\n",
      "2022-11 \t 680\n",
      "2022-09 \t 647\n",
      "2020-09 \t 732\n",
      "2022-05 \t 1491\n",
      "2023-01 \t 609\n",
      "2022-12 \t 720\n",
      "2022-06 \t 971\n",
      "2023-03 \t 423\n",
      "2021-06 \t 243\n",
      "2022-08 \t 974\n",
      "2020-01 \t 5\n",
      "2022-03 \t 291\n",
      "2022-04 \t 565\n",
      "2020-02 \t 4\n"
     ]
    },
    {
     "data": {
      "text/plain": [
       "(0.0, 100.0)"
      ]
     },
     "execution_count": 163,
     "metadata": {},
     "output_type": "execute_result"
    },
    {
     "data": {
      "image/png": "[encoded data removed]",
      "text/plain": [
       "<Figure size 1000x500 with 1 Axes>"
      ]
     },
     "metadata": {},
     "output_type": "display_data"
    }
   ],
   "source": [
    "#Using code from the module lab\n",
    "death = pd.unique(df[\"case_month\"].ravel())\n",
    "\n",
    "# add new column and set values to zero\n",
    "df['percent'] = 0\n",
    "\n",
    "#print header\n",
    "print(\"case_month\")\n",
    "print(\"Index \\t Count\")\n",
    "\n",
    "# for each delinquency category\n",
    "for i in death:\n",
    "    \n",
    "    count = df[df[\"case_month\"] == i].count()['death_yn']\n",
    "    count_percentage = (1 / count) * 100\n",
    "        \n",
    "    # print out index vs count\n",
    "    print(i, \"\\t\", count)\n",
    "    \n",
    "    index_list = df[df['case_month'] == i].index.tolist()\n",
    "    for ind in index_list:\n",
    "        df.loc[ind, 'percent'] = count_percentage\n",
    "        \n",
    "group = df[['percent','case_month','death_yn']].groupby(['case_month','death_yn']).sum()\n",
    "\n",
    "my_plot = group.unstack().plot(kind='bar', stacked=True, title=\"case month vs death\", figsize=(10,5), grid=True)\n",
    "\n",
    "my_plot.legend([\"Lived\", \"Died\"])\n",
    "\n",
    "my_plot.set_xlabel(\"case month\")\n",
    "my_plot.set_ylabel(\"% Dead\")\n",
    "my_plot.set_ylim([0,100])"
   ]
  },
  {
   "cell_type": "markdown",
   "metadata": {},
   "source": [
    "We can see here that there are far larger fatality percentages in the first few months than in later years of covid. This could be because of the unknown nature of the illness and lack of treatments and vaxines, and could also be because they didn't have widespread testing available so the only cases that were recorded in this data are the ones that expresses symptoms bad enough to need to be checked by a medical proffesional."
   ]
  },
  {
   "cell_type": "markdown",
   "metadata": {},
   "source": [
    "# Create New Features"
   ]
  },
  {
   "cell_type": "markdown",
   "metadata": {},
   "source": [
    "The first feature I want to create is whether the case came from a Republican or Democrat county. Because of the ways that the 2 main parties spread inormation regarding the dissease, and appraoched lockdown measures, I wanted to see if that significantly impaced fatalities."
   ]
  },
  {
   "cell_type": "code",
   "execution_count": 164,
   "metadata": {},
   "outputs": [],
   "source": [
    "gov = pd.read_csv('gov.csv', keep_default_na=True, delimiter=',', skipinitialspace=True)"
   ]
  },
  {
   "cell_type": "code",
   "execution_count": 165,
   "metadata": {},
   "outputs": [],
   "source": [
    "df['party'] = \" \""
   ]
  },
  {
   "cell_type": "code",
   "execution_count": 166,
   "metadata": {},
   "outputs": [
    {
     "name": "stdout",
     "output_type": "stream",
     "text": [
      "<class 'pandas.core.frame.DataFrame'>\n",
      "RangeIndex: 49868 entries, 0 to 49867\n",
      "Data columns (total 12 columns):\n",
      " #   Column                    Non-Null Count  Dtype \n",
      "---  ------                    --------------  ----- \n",
      " 0   case_month                49868 non-null  object\n",
      " 1   res_state                 49868 non-null  object\n",
      " 2   age_group                 49542 non-null  object\n",
      " 3   sex                       48637 non-null  object\n",
      " 4   race                      37425 non-null  object\n",
      " 5   ethnicity                 33824 non-null  object\n",
      " 6   current_status            49868 non-null  object\n",
      " 7   hosp_yn                   32640 non-null  object\n",
      " 8   icu_yn                    4033 non-null   object\n",
      " 9   death_yn                  49868 non-null  object\n",
      " 10  underlying_conditions_yn  4207 non-null   object\n",
      " 11  party                     49868 non-null  object\n",
      "dtypes: object(12)\n",
      "memory usage: 4.6+ MB\n"
     ]
    }
   ],
   "source": [
    "df = df.drop(columns=['percent'], axis=1)\n",
    "df.info()"
   ]
  },
  {
   "cell_type": "code",
   "execution_count": 167,
   "metadata": {},
   "outputs": [],
   "source": [
    "state_party_mapping = dict(zip(gov['state'], gov['party']))\n",
    "\n",
    "for index, row in df.iterrows():\n",
    "    state = row['res_state']\n",
    "    # Check if the state exists in the mapping\n",
    "    if state in state_party_mapping:\n",
    "        # Set the party value based on the mapping\n",
    "        df.at[index, 'party'] = state_party_mapping[state]"
   ]
  },
  {
   "cell_type": "code",
   "execution_count": 168,
   "metadata": {},
   "outputs": [
    {
     "data": {
      "text/plain": [
       "array(['Democrat', 'Republican', 'New Progressive Party', 'Independent'],\n",
       "      dtype=object)"
      ]
     },
     "execution_count": 168,
     "metadata": {},
     "output_type": "execute_result"
    }
   ],
   "source": [
    "df['party'].unique()"
   ]
  },
  {
   "cell_type": "code",
   "execution_count": 169,
   "metadata": {},
   "outputs": [
    {
     "name": "stderr",
     "output_type": "stream",
     "text": [
      "/var/folders/bv/rb38h6217gx4kkts7z_mq6bh0000gt/T/ipykernel_31135/432676555.py:2: FutureWarning: Series.ravel is deprecated. The underlying array is already 1D, so ravel is not necessary.  Use `to_numpy()` for conversion to a numpy array instead.\n",
      "  death = pd.unique(df[\"party\"].ravel())\n",
      "/var/folders/bv/rb38h6217gx4kkts7z_mq6bh0000gt/T/ipykernel_31135/432676555.py:22: FutureWarning: Setting an item of incompatible dtype is deprecated and will raise an error in a future version of pandas. Value '0.006415602745877976' has dtype incompatible with int64, please explicitly cast to a compatible dtype first.\n",
      "  df.loc[ind, 'percent'] = count_percentage\n"
     ]
    },
    {
     "name": "stdout",
     "output_type": "stream",
     "text": [
      "party\n",
      "Index \t Count\n",
      "Democrat \t 15587\n",
      "Republican \t 34166\n",
      "New Progressive Party \t 90\n",
      "Independent \t 25\n"
     ]
    },
    {
     "data": {
      "text/plain": [
       "(0.0, 100.0)"
      ]
     },
     "execution_count": 169,
     "metadata": {},
     "output_type": "execute_result"
    },
    {
     "data": {
      "image/png": "[encoded data removed]",
      "text/plain": [
       "<Figure size 1000x500 with 1 Axes>"
      ]
     },
     "metadata": {},
     "output_type": "display_data"
    }
   ],
   "source": [
    "#Using code from the module lab\n",
    "death = pd.unique(df[\"party\"].ravel())\n",
    "\n",
    "# add new column and set values to zero\n",
    "df['percent'] = 0\n",
    "\n",
    "#print header\n",
    "print(\"party\")\n",
    "print(\"Index \\t Count\")\n",
    "\n",
    "# for each delinquency category\n",
    "for i in death:\n",
    "    \n",
    "    count = df[df[\"party\"] == i].count()['death_yn']\n",
    "    count_percentage = (1 / count) * 100\n",
    "        \n",
    "    # print out index vs count\n",
    "    print(i, \"\\t\", count)\n",
    "    \n",
    "    index_list = df[df['party'] == i].index.tolist()\n",
    "    for ind in index_list:\n",
    "        df.loc[ind, 'percent'] = count_percentage\n",
    "        \n",
    "group = df[['percent','party','death_yn']].groupby(['party','death_yn']).sum()\n",
    "\n",
    "my_plot = group.unstack().plot(kind='bar', stacked=True, title=\"party vs death\", figsize=(10,5), grid=True)\n",
    "\n",
    "my_plot.legend([\"Lived\", \"Died\"])\n",
    "\n",
    "my_plot.set_xlabel(\"party\")\n",
    "my_plot.set_ylabel(\"% Dead\")\n",
    "my_plot.set_ylim([0,100])"
   ]
  },
  {
   "cell_type": "code",
   "execution_count": 172,
   "metadata": {},
   "outputs": [
    {
     "name": "stdout",
     "output_type": "stream",
     "text": [
      "Empty DataFrame\n",
      "Columns: [case_month, res_state, age_group, sex, race, ethnicity, current_status, hosp_yn, icu_yn, death_yn, underlying_conditions_yn, party, percent]\n",
      "Index: []\n"
     ]
    }
   ],
   "source": [
    "PR = df[df['res_state'] == 'PR']\n",
    "print(PR[PR['death_yn'] == 'No'])"
   ]
  }
 ],
 "metadata": {
  "kernelspec": {
   "display_name": "Python 3 (ipykernel)",
   "language": "python",
   "name": "python3"
  },
  "language_info": {
   "codemirror_mode": {
    "name": "ipython",
    "version": 3
   },
   "file_extension": ".py",
   "mimetype": "text/x-python",
   "name": "python",
   "nbconvert_exporter": "python",
   "pygments_lexer": "ipython3",
   "version": "3.11.8"
  }
 },
 "nbformat": 4,
 "nbformat_minor": 4
}
